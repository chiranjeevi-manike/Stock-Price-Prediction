{
  "nbformat": 4,
  "nbformat_minor": 0,
  "metadata": {
    "colab": {
      "name": "Stock Price Prediction using LSTM.ipynb",
      "provenance": [],
      "authorship_tag": "ABX9TyMcTbfpdpweUOsGPkN0Fo9J",
      "include_colab_link": true
    },
    "kernelspec": {
      "name": "python3",
      "display_name": "Python 3"
    }
  },
  "cells": [
    {
      "cell_type": "markdown",
      "metadata": {
        "id": "view-in-github",
        "colab_type": "text"
      },
      "source": [
        "<a href=\"https://colab.research.google.com/github/chiranjeevi-manike/Stock-Price-Prediction/blob/master/Stock_Price_Prediction_using_LSTM.ipynb\" target=\"_parent\"><img src=\"https://colab.research.google.com/assets/colab-badge.svg\" alt=\"Open In Colab\"/></a>"
      ]
    },
    {
      "cell_type": "code",
      "metadata": {
        "colab": {
          "base_uri": "https://localhost:8080/"
        },
        "id": "G3UEbtFrDUwU",
        "outputId": "c464f440-6a3b-4c71-de9a-899864ded616"
      },
      "source": [
        "!pip install yfinance"
      ],
      "execution_count": null,
      "outputs": [
        {
          "output_type": "stream",
          "text": [
            "Requirement already satisfied: yfinance in /usr/local/lib/python3.6/dist-packages (0.1.55)\n",
            "Requirement already satisfied: requests>=2.20 in /usr/local/lib/python3.6/dist-packages (from yfinance) (2.23.0)\n",
            "Requirement already satisfied: multitasking>=0.0.7 in /usr/local/lib/python3.6/dist-packages (from yfinance) (0.0.9)\n",
            "Requirement already satisfied: lxml>=4.5.1 in /usr/local/lib/python3.6/dist-packages (from yfinance) (4.6.2)\n",
            "Requirement already satisfied: numpy>=1.15 in /usr/local/lib/python3.6/dist-packages (from yfinance) (1.19.4)\n",
            "Requirement already satisfied: pandas>=0.24 in /usr/local/lib/python3.6/dist-packages (from yfinance) (1.1.5)\n",
            "Requirement already satisfied: urllib3!=1.25.0,!=1.25.1,<1.26,>=1.21.1 in /usr/local/lib/python3.6/dist-packages (from requests>=2.20->yfinance) (1.24.3)\n",
            "Requirement already satisfied: certifi>=2017.4.17 in /usr/local/lib/python3.6/dist-packages (from requests>=2.20->yfinance) (2020.12.5)\n",
            "Requirement already satisfied: chardet<4,>=3.0.2 in /usr/local/lib/python3.6/dist-packages (from requests>=2.20->yfinance) (3.0.4)\n",
            "Requirement already satisfied: idna<3,>=2.5 in /usr/local/lib/python3.6/dist-packages (from requests>=2.20->yfinance) (2.10)\n",
            "Requirement already satisfied: python-dateutil>=2.7.3 in /usr/local/lib/python3.6/dist-packages (from pandas>=0.24->yfinance) (2.8.1)\n",
            "Requirement already satisfied: pytz>=2017.2 in /usr/local/lib/python3.6/dist-packages (from pandas>=0.24->yfinance) (2018.9)\n",
            "Requirement already satisfied: six>=1.5 in /usr/local/lib/python3.6/dist-packages (from python-dateutil>=2.7.3->pandas>=0.24->yfinance) (1.15.0)\n"
          ],
          "name": "stdout"
        }
      ]
    },
    {
      "cell_type": "code",
      "metadata": {
        "id": "-dxIMvS6DjjH"
      },
      "source": [
        "import yfinance as yf"
      ],
      "execution_count": null,
      "outputs": []
    },
    {
      "cell_type": "code",
      "metadata": {
        "colab": {
          "base_uri": "https://localhost:8080/"
        },
        "id": "9clK1zT0DlW5",
        "outputId": "f0029a2a-9e13-4b19-e207-7699903d4d4d"
      },
      "source": [
        "data = yf.download('GOOGL', start = '2018-01-01', end = '2020-12-20', progress = True)"
      ],
      "execution_count": null,
      "outputs": [
        {
          "output_type": "stream",
          "text": [
            "\r[*********************100%***********************]  1 of 1 completed\n"
          ],
          "name": "stdout"
        }
      ]
    },
    {
      "cell_type": "code",
      "metadata": {
        "colab": {
          "base_uri": "https://localhost:8080/",
          "height": 235
        },
        "id": "S5owjdmnEdKe",
        "outputId": "d575a048-575e-4266-c307-6fa136745c19"
      },
      "source": [
        "data.head()"
      ],
      "execution_count": null,
      "outputs": [
        {
          "output_type": "execute_result",
          "data": {
            "text/html": [
              "<div>\n",
              "<style scoped>\n",
              "    .dataframe tbody tr th:only-of-type {\n",
              "        vertical-align: middle;\n",
              "    }\n",
              "\n",
              "    .dataframe tbody tr th {\n",
              "        vertical-align: top;\n",
              "    }\n",
              "\n",
              "    .dataframe thead th {\n",
              "        text-align: right;\n",
              "    }\n",
              "</style>\n",
              "<table border=\"1\" class=\"dataframe\">\n",
              "  <thead>\n",
              "    <tr style=\"text-align: right;\">\n",
              "      <th></th>\n",
              "      <th>Open</th>\n",
              "      <th>High</th>\n",
              "      <th>Low</th>\n",
              "      <th>Close</th>\n",
              "      <th>Adj Close</th>\n",
              "      <th>Volume</th>\n",
              "    </tr>\n",
              "    <tr>\n",
              "      <th>Date</th>\n",
              "      <th></th>\n",
              "      <th></th>\n",
              "      <th></th>\n",
              "      <th></th>\n",
              "      <th></th>\n",
              "      <th></th>\n",
              "    </tr>\n",
              "  </thead>\n",
              "  <tbody>\n",
              "    <tr>\n",
              "      <th>2018-01-02</th>\n",
              "      <td>1053.020020</td>\n",
              "      <td>1075.979980</td>\n",
              "      <td>1053.020020</td>\n",
              "      <td>1073.209961</td>\n",
              "      <td>1073.209961</td>\n",
              "      <td>1588300</td>\n",
              "    </tr>\n",
              "    <tr>\n",
              "      <th>2018-01-03</th>\n",
              "      <td>1073.930054</td>\n",
              "      <td>1096.099976</td>\n",
              "      <td>1073.430054</td>\n",
              "      <td>1091.520020</td>\n",
              "      <td>1091.520020</td>\n",
              "      <td>1565900</td>\n",
              "    </tr>\n",
              "    <tr>\n",
              "      <th>2018-01-04</th>\n",
              "      <td>1097.089966</td>\n",
              "      <td>1104.079956</td>\n",
              "      <td>1094.260010</td>\n",
              "      <td>1095.760010</td>\n",
              "      <td>1095.760010</td>\n",
              "      <td>1302600</td>\n",
              "    </tr>\n",
              "    <tr>\n",
              "      <th>2018-01-05</th>\n",
              "      <td>1103.449951</td>\n",
              "      <td>1113.579956</td>\n",
              "      <td>1101.800049</td>\n",
              "      <td>1110.290039</td>\n",
              "      <td>1110.290039</td>\n",
              "      <td>1512500</td>\n",
              "    </tr>\n",
              "    <tr>\n",
              "      <th>2018-01-08</th>\n",
              "      <td>1111.000000</td>\n",
              "      <td>1119.160034</td>\n",
              "      <td>1110.000000</td>\n",
              "      <td>1114.209961</td>\n",
              "      <td>1114.209961</td>\n",
              "      <td>1232200</td>\n",
              "    </tr>\n",
              "  </tbody>\n",
              "</table>\n",
              "</div>"
            ],
            "text/plain": [
              "                   Open         High  ...    Adj Close   Volume\n",
              "Date                                  ...                      \n",
              "2018-01-02  1053.020020  1075.979980  ...  1073.209961  1588300\n",
              "2018-01-03  1073.930054  1096.099976  ...  1091.520020  1565900\n",
              "2018-01-04  1097.089966  1104.079956  ...  1095.760010  1302600\n",
              "2018-01-05  1103.449951  1113.579956  ...  1110.290039  1512500\n",
              "2018-01-08  1111.000000  1119.160034  ...  1114.209961  1232200\n",
              "\n",
              "[5 rows x 6 columns]"
            ]
          },
          "metadata": {
            "tags": []
          },
          "execution_count": 7
        }
      ]
    },
    {
      "cell_type": "code",
      "metadata": {
        "id": "lEaQZR2UDmlw"
      },
      "source": [
        "data.to_csv('google.csv',index = True)"
      ],
      "execution_count": null,
      "outputs": []
    },
    {
      "cell_type": "code",
      "metadata": {
        "id": "k5yYebu5EK8q"
      },
      "source": [
        "import pandas as pd\r\n",
        "import numpy as np\r\n",
        "%matplotlib inline\r\n",
        "import matplotlib.pyplot as plt\r\n",
        "import matplotlib\r\n",
        "from sklearn.preprocessing import MinMaxScaler\r\n",
        "from keras.layers import LSTM,Dense,Dropout\r\n",
        "from sklearn.model_selection import TimeSeriesSplit\r\n",
        "from sklearn.metrics import mean_squared_error, r2_score\r\n",
        "import matplotlib.dates as mdates\r\n",
        "from sklearn import linear_model"
      ],
      "execution_count": null,
      "outputs": []
    },
    {
      "cell_type": "code",
      "metadata": {
        "id": "6RXa6s5rESAH"
      },
      "source": [
        "df_final = pd.read_csv(\"google.csv\",na_values=['null'],index_col='Date',parse_dates=True,infer_datetime_format=True)"
      ],
      "execution_count": null,
      "outputs": []
    },
    {
      "cell_type": "code",
      "metadata": {
        "colab": {
          "base_uri": "https://localhost:8080/",
          "height": 235
        },
        "id": "yIKXApAOFl4d",
        "outputId": "ec4d2fda-b70d-46f5-cf8b-791d20c37b4f"
      },
      "source": [
        "df_final.head()"
      ],
      "execution_count": null,
      "outputs": [
        {
          "output_type": "execute_result",
          "data": {
            "text/html": [
              "<div>\n",
              "<style scoped>\n",
              "    .dataframe tbody tr th:only-of-type {\n",
              "        vertical-align: middle;\n",
              "    }\n",
              "\n",
              "    .dataframe tbody tr th {\n",
              "        vertical-align: top;\n",
              "    }\n",
              "\n",
              "    .dataframe thead th {\n",
              "        text-align: right;\n",
              "    }\n",
              "</style>\n",
              "<table border=\"1\" class=\"dataframe\">\n",
              "  <thead>\n",
              "    <tr style=\"text-align: right;\">\n",
              "      <th></th>\n",
              "      <th>Open</th>\n",
              "      <th>High</th>\n",
              "      <th>Low</th>\n",
              "      <th>Close</th>\n",
              "      <th>Adj Close</th>\n",
              "      <th>Volume</th>\n",
              "    </tr>\n",
              "    <tr>\n",
              "      <th>Date</th>\n",
              "      <th></th>\n",
              "      <th></th>\n",
              "      <th></th>\n",
              "      <th></th>\n",
              "      <th></th>\n",
              "      <th></th>\n",
              "    </tr>\n",
              "  </thead>\n",
              "  <tbody>\n",
              "    <tr>\n",
              "      <th>2018-01-02</th>\n",
              "      <td>1053.020020</td>\n",
              "      <td>1075.979980</td>\n",
              "      <td>1053.020020</td>\n",
              "      <td>1073.209961</td>\n",
              "      <td>1073.209961</td>\n",
              "      <td>1588300</td>\n",
              "    </tr>\n",
              "    <tr>\n",
              "      <th>2018-01-03</th>\n",
              "      <td>1073.930054</td>\n",
              "      <td>1096.099976</td>\n",
              "      <td>1073.430054</td>\n",
              "      <td>1091.520020</td>\n",
              "      <td>1091.520020</td>\n",
              "      <td>1565900</td>\n",
              "    </tr>\n",
              "    <tr>\n",
              "      <th>2018-01-04</th>\n",
              "      <td>1097.089966</td>\n",
              "      <td>1104.079956</td>\n",
              "      <td>1094.260010</td>\n",
              "      <td>1095.760010</td>\n",
              "      <td>1095.760010</td>\n",
              "      <td>1302600</td>\n",
              "    </tr>\n",
              "    <tr>\n",
              "      <th>2018-01-05</th>\n",
              "      <td>1103.449951</td>\n",
              "      <td>1113.579956</td>\n",
              "      <td>1101.800049</td>\n",
              "      <td>1110.290039</td>\n",
              "      <td>1110.290039</td>\n",
              "      <td>1512500</td>\n",
              "    </tr>\n",
              "    <tr>\n",
              "      <th>2018-01-08</th>\n",
              "      <td>1111.000000</td>\n",
              "      <td>1119.160034</td>\n",
              "      <td>1110.000000</td>\n",
              "      <td>1114.209961</td>\n",
              "      <td>1114.209961</td>\n",
              "      <td>1232200</td>\n",
              "    </tr>\n",
              "  </tbody>\n",
              "</table>\n",
              "</div>"
            ],
            "text/plain": [
              "                   Open         High  ...    Adj Close   Volume\n",
              "Date                                  ...                      \n",
              "2018-01-02  1053.020020  1075.979980  ...  1073.209961  1588300\n",
              "2018-01-03  1073.930054  1096.099976  ...  1091.520020  1565900\n",
              "2018-01-04  1097.089966  1104.079956  ...  1095.760010  1302600\n",
              "2018-01-05  1103.449951  1113.579956  ...  1110.290039  1512500\n",
              "2018-01-08  1111.000000  1119.160034  ...  1114.209961  1232200\n",
              "\n",
              "[5 rows x 6 columns]"
            ]
          },
          "metadata": {
            "tags": []
          },
          "execution_count": 11
        }
      ]
    },
    {
      "cell_type": "code",
      "metadata": {
        "colab": {
          "base_uri": "https://localhost:8080/"
        },
        "id": "1h458YEXGxPy",
        "outputId": "d9431504-baca-4262-dfdb-7613ac06f725"
      },
      "source": [
        "df_final.shape"
      ],
      "execution_count": null,
      "outputs": [
        {
          "output_type": "execute_result",
          "data": {
            "text/plain": [
              "(748, 6)"
            ]
          },
          "metadata": {
            "tags": []
          },
          "execution_count": 12
        }
      ]
    },
    {
      "cell_type": "code",
      "metadata": {
        "colab": {
          "base_uri": "https://localhost:8080/",
          "height": 297
        },
        "id": "tzY9FotBHz8D",
        "outputId": "d75387fa-4419-4448-9e63-f8efeca60156"
      },
      "source": [
        "df_final.describe()"
      ],
      "execution_count": null,
      "outputs": [
        {
          "output_type": "execute_result",
          "data": {
            "text/html": [
              "<div>\n",
              "<style scoped>\n",
              "    .dataframe tbody tr th:only-of-type {\n",
              "        vertical-align: middle;\n",
              "    }\n",
              "\n",
              "    .dataframe tbody tr th {\n",
              "        vertical-align: top;\n",
              "    }\n",
              "\n",
              "    .dataframe thead th {\n",
              "        text-align: right;\n",
              "    }\n",
              "</style>\n",
              "<table border=\"1\" class=\"dataframe\">\n",
              "  <thead>\n",
              "    <tr style=\"text-align: right;\">\n",
              "      <th></th>\n",
              "      <th>Open</th>\n",
              "      <th>High</th>\n",
              "      <th>Low</th>\n",
              "      <th>Close</th>\n",
              "      <th>Adj Close</th>\n",
              "      <th>Volume</th>\n",
              "    </tr>\n",
              "  </thead>\n",
              "  <tbody>\n",
              "    <tr>\n",
              "      <th>count</th>\n",
              "      <td>748.000000</td>\n",
              "      <td>748.000000</td>\n",
              "      <td>748.000000</td>\n",
              "      <td>748.000000</td>\n",
              "      <td>748.000000</td>\n",
              "      <td>7.480000e+02</td>\n",
              "    </tr>\n",
              "    <tr>\n",
              "      <th>mean</th>\n",
              "      <td>1258.840949</td>\n",
              "      <td>1272.454584</td>\n",
              "      <td>1245.450149</td>\n",
              "      <td>1259.447981</td>\n",
              "      <td>1259.447981</td>\n",
              "      <td>1.860247e+06</td>\n",
              "    </tr>\n",
              "    <tr>\n",
              "      <th>std</th>\n",
              "      <td>188.997360</td>\n",
              "      <td>190.924935</td>\n",
              "      <td>187.844497</td>\n",
              "      <td>189.343068</td>\n",
              "      <td>189.343068</td>\n",
              "      <td>8.694324e+05</td>\n",
              "    </tr>\n",
              "    <tr>\n",
              "      <th>min</th>\n",
              "      <td>984.320007</td>\n",
              "      <td>1012.119995</td>\n",
              "      <td>977.659973</td>\n",
              "      <td>984.669983</td>\n",
              "      <td>984.669983</td>\n",
              "      <td>6.401000e+05</td>\n",
              "    </tr>\n",
              "    <tr>\n",
              "      <th>25%</th>\n",
              "      <td>1115.282471</td>\n",
              "      <td>1127.665039</td>\n",
              "      <td>1105.225006</td>\n",
              "      <td>1116.339996</td>\n",
              "      <td>1116.339996</td>\n",
              "      <td>1.303950e+06</td>\n",
              "    </tr>\n",
              "    <tr>\n",
              "      <th>50%</th>\n",
              "      <td>1199.994995</td>\n",
              "      <td>1209.164978</td>\n",
              "      <td>1190.200012</td>\n",
              "      <td>1201.830017</td>\n",
              "      <td>1201.830017</td>\n",
              "      <td>1.644500e+06</td>\n",
              "    </tr>\n",
              "    <tr>\n",
              "      <th>75%</th>\n",
              "      <td>1378.047516</td>\n",
              "      <td>1398.079987</td>\n",
              "      <td>1354.399963</td>\n",
              "      <td>1384.549988</td>\n",
              "      <td>1384.549988</td>\n",
              "      <td>2.125475e+06</td>\n",
              "    </tr>\n",
              "    <tr>\n",
              "      <th>max</th>\n",
              "      <td>1820.540039</td>\n",
              "      <td>1843.829956</td>\n",
              "      <td>1817.000000</td>\n",
              "      <td>1824.969971</td>\n",
              "      <td>1824.969971</td>\n",
              "      <td>6.658900e+06</td>\n",
              "    </tr>\n",
              "  </tbody>\n",
              "</table>\n",
              "</div>"
            ],
            "text/plain": [
              "              Open         High  ...    Adj Close        Volume\n",
              "count   748.000000   748.000000  ...   748.000000  7.480000e+02\n",
              "mean   1258.840949  1272.454584  ...  1259.447981  1.860247e+06\n",
              "std     188.997360   190.924935  ...   189.343068  8.694324e+05\n",
              "min     984.320007  1012.119995  ...   984.669983  6.401000e+05\n",
              "25%    1115.282471  1127.665039  ...  1116.339996  1.303950e+06\n",
              "50%    1199.994995  1209.164978  ...  1201.830017  1.644500e+06\n",
              "75%    1378.047516  1398.079987  ...  1384.549988  2.125475e+06\n",
              "max    1820.540039  1843.829956  ...  1824.969971  6.658900e+06\n",
              "\n",
              "[8 rows x 6 columns]"
            ]
          },
          "metadata": {
            "tags": []
          },
          "execution_count": 13
        }
      ]
    },
    {
      "cell_type": "code",
      "metadata": {
        "colab": {
          "base_uri": "https://localhost:8080/"
        },
        "id": "MI54XEtpH29E",
        "outputId": "1a57c145-3682-4671-896e-8dcfed7e1abb"
      },
      "source": [
        "df_final.isnull().values.any()"
      ],
      "execution_count": null,
      "outputs": [
        {
          "output_type": "execute_result",
          "data": {
            "text/plain": [
              "False"
            ]
          },
          "metadata": {
            "tags": []
          },
          "execution_count": 14
        }
      ]
    },
    {
      "cell_type": "code",
      "metadata": {
        "colab": {
          "base_uri": "https://localhost:8080/",
          "height": 294
        },
        "id": "aVDS8_2kIEaV",
        "outputId": "0b10e3fd-b2b1-4692-db3c-a27490e93f4a"
      },
      "source": [
        "df_final['Adj Close'].plot()"
      ],
      "execution_count": null,
      "outputs": [
        {
          "output_type": "execute_result",
          "data": {
            "text/plain": [
              "<matplotlib.axes._subplots.AxesSubplot at 0x7f997a382400>"
            ]
          },
          "metadata": {
            "tags": []
          },
          "execution_count": 15
        },
        {
          "output_type": "display_data",
          "data": {
            "image/png": "[encoded data removed]",
            "text/plain": [
              "<Figure size 432x288 with 1 Axes>"
            ]
          },
          "metadata": {
            "tags": [],
            "needs_background": "light"
          }
        }
      ]
    },
    {
      "cell_type": "code",
      "metadata": {
        "id": "qGOvufRQIPcu"
      },
      "source": [
        "X=df_final.drop(['Adj Close'],axis=1)\r\n",
        "X=X.drop(['Close'],axis=1)"
      ],
      "execution_count": null,
      "outputs": []
    },
    {
      "cell_type": "code",
      "metadata": {
        "colab": {
          "base_uri": "https://localhost:8080/",
          "height": 689
        },
        "id": "8Ilq3fOzIT62",
        "outputId": "44f2f3ff-0187-4c1f-e9e8-2c30efe22e8e"
      },
      "source": [
        "X.corrwith(df_final['Adj Close']).plot.bar(\r\n",
        "        figsize = (20, 10), title = \"Correlation with Adj Close\", fontsize = 20,\r\n",
        "        rot = 90, grid = True)"
      ],
      "execution_count": null,
      "outputs": [
        {
          "output_type": "execute_result",
          "data": {
            "text/plain": [
              "<matplotlib.axes._subplots.AxesSubplot at 0x7f997a266550>"
            ]
          },
          "metadata": {
            "tags": []
          },
          "execution_count": 17
        },
        {
          "output_type": "display_data",
          "data": {
            "image/png": "[encoded data removed]",
            "text/plain": [
              "<Figure size 1440x720 with 1 Axes>"
            ]
          },
          "metadata": {
            "tags": [],
            "needs_background": "light"
          }
        }
      ]
    },
    {
      "cell_type": "code",
      "metadata": {
        "id": "W_-w96mWIbYk",
        "colab": {
          "base_uri": "https://localhost:8080/",
          "height": 235
        },
        "outputId": "ea16d17c-74db-4b2f-fb97-25f956de65ed"
      },
      "source": [
        "test = df_final\r\n",
        "# Target column\r\n",
        "target_adj_close = pd.DataFrame(test['Adj Close'])\r\n",
        "display(test.head())"
      ],
      "execution_count": null,
      "outputs": [
        {
          "output_type": "display_data",
          "data": {
            "text/html": [
              "<div>\n",
              "<style scoped>\n",
              "    .dataframe tbody tr th:only-of-type {\n",
              "        vertical-align: middle;\n",
              "    }\n",
              "\n",
              "    .dataframe tbody tr th {\n",
              "        vertical-align: top;\n",
              "    }\n",
              "\n",
              "    .dataframe thead th {\n",
              "        text-align: right;\n",
              "    }\n",
              "</style>\n",
              "<table border=\"1\" class=\"dataframe\">\n",
              "  <thead>\n",
              "    <tr style=\"text-align: right;\">\n",
              "      <th></th>\n",
              "      <th>Open</th>\n",
              "      <th>High</th>\n",
              "      <th>Low</th>\n",
              "      <th>Close</th>\n",
              "      <th>Adj Close</th>\n",
              "      <th>Volume</th>\n",
              "    </tr>\n",
              "    <tr>\n",
              "      <th>Date</th>\n",
              "      <th></th>\n",
              "      <th></th>\n",
              "      <th></th>\n",
              "      <th></th>\n",
              "      <th></th>\n",
              "      <th></th>\n",
              "    </tr>\n",
              "  </thead>\n",
              "  <tbody>\n",
              "    <tr>\n",
              "      <th>2018-01-02</th>\n",
              "      <td>1053.020020</td>\n",
              "      <td>1075.979980</td>\n",
              "      <td>1053.020020</td>\n",
              "      <td>1073.209961</td>\n",
              "      <td>1073.209961</td>\n",
              "      <td>1588300</td>\n",
              "    </tr>\n",
              "    <tr>\n",
              "      <th>2018-01-03</th>\n",
              "      <td>1073.930054</td>\n",
              "      <td>1096.099976</td>\n",
              "      <td>1073.430054</td>\n",
              "      <td>1091.520020</td>\n",
              "      <td>1091.520020</td>\n",
              "      <td>1565900</td>\n",
              "    </tr>\n",
              "    <tr>\n",
              "      <th>2018-01-04</th>\n",
              "      <td>1097.089966</td>\n",
              "      <td>1104.079956</td>\n",
              "      <td>1094.260010</td>\n",
              "      <td>1095.760010</td>\n",
              "      <td>1095.760010</td>\n",
              "      <td>1302600</td>\n",
              "    </tr>\n",
              "    <tr>\n",
              "      <th>2018-01-05</th>\n",
              "      <td>1103.449951</td>\n",
              "      <td>1113.579956</td>\n",
              "      <td>1101.800049</td>\n",
              "      <td>1110.290039</td>\n",
              "      <td>1110.290039</td>\n",
              "      <td>1512500</td>\n",
              "    </tr>\n",
              "    <tr>\n",
              "      <th>2018-01-08</th>\n",
              "      <td>1111.000000</td>\n",
              "      <td>1119.160034</td>\n",
              "      <td>1110.000000</td>\n",
              "      <td>1114.209961</td>\n",
              "      <td>1114.209961</td>\n",
              "      <td>1232200</td>\n",
              "    </tr>\n",
              "  </tbody>\n",
              "</table>\n",
              "</div>"
            ],
            "text/plain": [
              "                   Open         High  ...    Adj Close   Volume\n",
              "Date                                  ...                      \n",
              "2018-01-02  1053.020020  1075.979980  ...  1073.209961  1588300\n",
              "2018-01-03  1073.930054  1096.099976  ...  1091.520020  1565900\n",
              "2018-01-04  1097.089966  1104.079956  ...  1095.760010  1302600\n",
              "2018-01-05  1103.449951  1113.579956  ...  1110.290039  1512500\n",
              "2018-01-08  1111.000000  1119.160034  ...  1114.209961  1232200\n",
              "\n",
              "[5 rows x 6 columns]"
            ]
          },
          "metadata": {
            "tags": []
          }
        }
      ]
    },
    {
      "cell_type": "code",
      "metadata": {
        "id": "twQcMP7n5_yZ"
      },
      "source": [
        "# selecting Feature Columns\r\n",
        "feature_columns = ['Open', 'High', 'Low', 'Volume']"
      ],
      "execution_count": null,
      "outputs": []
    },
    {
      "cell_type": "code",
      "metadata": {
        "colab": {
          "base_uri": "https://localhost:8080/",
          "height": 235
        },
        "id": "lVpyS_6W6DuA",
        "outputId": "9fc9047e-d0d3-48ef-c5d6-fe936c63d4b3"
      },
      "source": [
        "from sklearn.preprocessing import MinMaxScaler\r\n",
        "scaler = MinMaxScaler()\r\n",
        "feature_minmax_transform_data = scaler.fit_transform(test[feature_columns])\r\n",
        "feature_minmax_transform = pd.DataFrame(columns=feature_columns, data=feature_minmax_transform_data, index=test.index)\r\n",
        "feature_minmax_transform.head()"
      ],
      "execution_count": null,
      "outputs": [
        {
          "output_type": "execute_result",
          "data": {
            "text/html": [
              "<div>\n",
              "<style scoped>\n",
              "    .dataframe tbody tr th:only-of-type {\n",
              "        vertical-align: middle;\n",
              "    }\n",
              "\n",
              "    .dataframe tbody tr th {\n",
              "        vertical-align: top;\n",
              "    }\n",
              "\n",
              "    .dataframe thead th {\n",
              "        text-align: right;\n",
              "    }\n",
              "</style>\n",
              "<table border=\"1\" class=\"dataframe\">\n",
              "  <thead>\n",
              "    <tr style=\"text-align: right;\">\n",
              "      <th></th>\n",
              "      <th>Open</th>\n",
              "      <th>High</th>\n",
              "      <th>Low</th>\n",
              "      <th>Volume</th>\n",
              "    </tr>\n",
              "    <tr>\n",
              "      <th>Date</th>\n",
              "      <th></th>\n",
              "      <th></th>\n",
              "      <th></th>\n",
              "      <th></th>\n",
              "    </tr>\n",
              "  </thead>\n",
              "  <tbody>\n",
              "    <tr>\n",
              "      <th>2018-01-02</th>\n",
              "      <td>0.082155</td>\n",
              "      <td>0.076782</td>\n",
              "      <td>0.089785</td>\n",
              "      <td>0.157540</td>\n",
              "    </tr>\n",
              "    <tr>\n",
              "      <th>2018-01-03</th>\n",
              "      <td>0.107161</td>\n",
              "      <td>0.100973</td>\n",
              "      <td>0.114102</td>\n",
              "      <td>0.153818</td>\n",
              "    </tr>\n",
              "    <tr>\n",
              "      <th>2018-01-04</th>\n",
              "      <td>0.134857</td>\n",
              "      <td>0.110567</td>\n",
              "      <td>0.138919</td>\n",
              "      <td>0.110072</td>\n",
              "    </tr>\n",
              "    <tr>\n",
              "      <th>2018-01-05</th>\n",
              "      <td>0.142462</td>\n",
              "      <td>0.121990</td>\n",
              "      <td>0.147902</td>\n",
              "      <td>0.144946</td>\n",
              "    </tr>\n",
              "    <tr>\n",
              "      <th>2018-01-08</th>\n",
              "      <td>0.151491</td>\n",
              "      <td>0.128699</td>\n",
              "      <td>0.157672</td>\n",
              "      <td>0.098375</td>\n",
              "    </tr>\n",
              "  </tbody>\n",
              "</table>\n",
              "</div>"
            ],
            "text/plain": [
              "                Open      High       Low    Volume\n",
              "Date                                              \n",
              "2018-01-02  0.082155  0.076782  0.089785  0.157540\n",
              "2018-01-03  0.107161  0.100973  0.114102  0.153818\n",
              "2018-01-04  0.134857  0.110567  0.138919  0.110072\n",
              "2018-01-05  0.142462  0.121990  0.147902  0.144946\n",
              "2018-01-08  0.151491  0.128699  0.157672  0.098375"
            ]
          },
          "metadata": {
            "tags": []
          },
          "execution_count": 20
        }
      ]
    },
    {
      "cell_type": "code",
      "metadata": {
        "colab": {
          "base_uri": "https://localhost:8080/",
          "height": 1000
        },
        "id": "YlOZpyh56IoW",
        "outputId": "13afc3a1-22f2-43fb-a4d7-34575862f192"
      },
      "source": [
        "display(feature_minmax_transform.head())\r\n",
        "print('Shape of features : ', feature_minmax_transform.shape)\r\n",
        "print('Shape of target : ', target_adj_close.shape)\r\n",
        "\r\n",
        "# Shift target array because we want to predict the n + 1 day value\r\n",
        "\r\n",
        "\r\n",
        "target_adj_close = target_adj_close.shift(-1)\r\n",
        "validation_y = target_adj_close[-90:-1]\r\n",
        "target_adj_close = target_adj_close[:-90]\r\n",
        "\r\n",
        "# Taking last 90 rows of data to be validation set\r\n",
        "validation_X = feature_minmax_transform[-90:-1]\r\n",
        "feature_minmax_transform = feature_minmax_transform[:-90]\r\n",
        "display(validation_X.tail())\r\n",
        "display(validation_y.tail())\r\n",
        "\r\n",
        "print(\"\\n -----After process------ \\n\")\r\n",
        "print('Shape of features : ', feature_minmax_transform.shape)\r\n",
        "print('Shape of target : ', target_adj_close.shape)\r\n",
        "display(target_adj_close.tail())"
      ],
      "execution_count": null,
      "outputs": [
        {
          "output_type": "display_data",
          "data": {
            "text/html": [
              "<div>\n",
              "<style scoped>\n",
              "    .dataframe tbody tr th:only-of-type {\n",
              "        vertical-align: middle;\n",
              "    }\n",
              "\n",
              "    .dataframe tbody tr th {\n",
              "        vertical-align: top;\n",
              "    }\n",
              "\n",
              "    .dataframe thead th {\n",
              "        text-align: right;\n",
              "    }\n",
              "</style>\n",
              "<table border=\"1\" class=\"dataframe\">\n",
              "  <thead>\n",
              "    <tr style=\"text-align: right;\">\n",
              "      <th></th>\n",
              "      <th>Open</th>\n",
              "      <th>High</th>\n",
              "      <th>Low</th>\n",
              "      <th>Volume</th>\n",
              "    </tr>\n",
              "    <tr>\n",
              "      <th>Date</th>\n",
              "      <th></th>\n",
              "      <th></th>\n",
              "      <th></th>\n",
              "      <th></th>\n",
              "    </tr>\n",
              "  </thead>\n",
              "  <tbody>\n",
              "    <tr>\n",
              "      <th>2018-01-02</th>\n",
              "      <td>0.082155</td>\n",
              "      <td>0.076782</td>\n",
              "      <td>0.089785</td>\n",
              "      <td>0.157540</td>\n",
              "    </tr>\n",
              "    <tr>\n",
              "      <th>2018-01-03</th>\n",
              "      <td>0.107161</td>\n",
              "      <td>0.100973</td>\n",
              "      <td>0.114102</td>\n",
              "      <td>0.153818</td>\n",
              "    </tr>\n",
              "    <tr>\n",
              "      <th>2018-01-04</th>\n",
              "      <td>0.134857</td>\n",
              "      <td>0.110567</td>\n",
              "      <td>0.138919</td>\n",
              "      <td>0.110072</td>\n",
              "    </tr>\n",
              "    <tr>\n",
              "      <th>2018-01-05</th>\n",
              "      <td>0.142462</td>\n",
              "      <td>0.121990</td>\n",
              "      <td>0.147902</td>\n",
              "      <td>0.144946</td>\n",
              "    </tr>\n",
              "    <tr>\n",
              "      <th>2018-01-08</th>\n",
              "      <td>0.151491</td>\n",
              "      <td>0.128699</td>\n",
              "      <td>0.157672</td>\n",
              "      <td>0.098375</td>\n",
              "    </tr>\n",
              "  </tbody>\n",
              "</table>\n",
              "</div>"
            ],
            "text/plain": [
              "                Open      High       Low    Volume\n",
              "Date                                              \n",
              "2018-01-02  0.082155  0.076782  0.089785  0.157540\n",
              "2018-01-03  0.107161  0.100973  0.114102  0.153818\n",
              "2018-01-04  0.134857  0.110567  0.138919  0.110072\n",
              "2018-01-05  0.142462  0.121990  0.147902  0.144946\n",
              "2018-01-08  0.151491  0.128699  0.157672  0.098375"
            ]
          },
          "metadata": {
            "tags": []
          }
        },
        {
          "output_type": "stream",
          "text": [
            "Shape of features :  (748, 4)\n",
            "Shape of target :  (748, 1)\n"
          ],
          "name": "stdout"
        },
        {
          "output_type": "display_data",
          "data": {
            "text/html": [
              "<div>\n",
              "<style scoped>\n",
              "    .dataframe tbody tr th:only-of-type {\n",
              "        vertical-align: middle;\n",
              "    }\n",
              "\n",
              "    .dataframe tbody tr th {\n",
              "        vertical-align: top;\n",
              "    }\n",
              "\n",
              "    .dataframe thead th {\n",
              "        text-align: right;\n",
              "    }\n",
              "</style>\n",
              "<table border=\"1\" class=\"dataframe\">\n",
              "  <thead>\n",
              "    <tr style=\"text-align: right;\">\n",
              "      <th></th>\n",
              "      <th>Open</th>\n",
              "      <th>High</th>\n",
              "      <th>Low</th>\n",
              "      <th>Volume</th>\n",
              "    </tr>\n",
              "    <tr>\n",
              "      <th>Date</th>\n",
              "      <th></th>\n",
              "      <th></th>\n",
              "      <th></th>\n",
              "      <th></th>\n",
              "    </tr>\n",
              "  </thead>\n",
              "  <tbody>\n",
              "    <tr>\n",
              "      <th>2020-12-11</th>\n",
              "      <td>0.927603</td>\n",
              "      <td>0.920020</td>\n",
              "      <td>0.923440</td>\n",
              "      <td>0.048398</td>\n",
              "    </tr>\n",
              "    <tr>\n",
              "      <th>2020-12-14</th>\n",
              "      <td>0.940422</td>\n",
              "      <td>0.935038</td>\n",
              "      <td>0.919139</td>\n",
              "      <td>0.168206</td>\n",
              "    </tr>\n",
              "    <tr>\n",
              "      <th>2020-12-15</th>\n",
              "      <td>0.927435</td>\n",
              "      <td>0.904017</td>\n",
              "      <td>0.910251</td>\n",
              "      <td>0.071144</td>\n",
              "    </tr>\n",
              "    <tr>\n",
              "      <th>2020-12-16</th>\n",
              "      <td>0.938497</td>\n",
              "      <td>0.910161</td>\n",
              "      <td>0.919056</td>\n",
              "      <td>0.098641</td>\n",
              "    </tr>\n",
              "    <tr>\n",
              "      <th>2020-12-17</th>\n",
              "      <td>0.932303</td>\n",
              "      <td>0.907275</td>\n",
              "      <td>0.897717</td>\n",
              "      <td>0.183409</td>\n",
              "    </tr>\n",
              "  </tbody>\n",
              "</table>\n",
              "</div>"
            ],
            "text/plain": [
              "                Open      High       Low    Volume\n",
              "Date                                              \n",
              "2020-12-11  0.927603  0.920020  0.923440  0.048398\n",
              "2020-12-14  0.940422  0.935038  0.919139  0.168206\n",
              "2020-12-15  0.927435  0.904017  0.910251  0.071144\n",
              "2020-12-16  0.938497  0.910161  0.919056  0.098641\n",
              "2020-12-17  0.932303  0.907275  0.897717  0.183409"
            ]
          },
          "metadata": {
            "tags": []
          }
        },
        {
          "output_type": "display_data",
          "data": {
            "text/html": [
              "<div>\n",
              "<style scoped>\n",
              "    .dataframe tbody tr th:only-of-type {\n",
              "        vertical-align: middle;\n",
              "    }\n",
              "\n",
              "    .dataframe tbody tr th {\n",
              "        vertical-align: top;\n",
              "    }\n",
              "\n",
              "    .dataframe thead th {\n",
              "        text-align: right;\n",
              "    }\n",
              "</style>\n",
              "<table border=\"1\" class=\"dataframe\">\n",
              "  <thead>\n",
              "    <tr style=\"text-align: right;\">\n",
              "      <th></th>\n",
              "      <th>Adj Close</th>\n",
              "    </tr>\n",
              "    <tr>\n",
              "      <th>Date</th>\n",
              "      <th></th>\n",
              "    </tr>\n",
              "  </thead>\n",
              "  <tbody>\n",
              "    <tr>\n",
              "      <th>2020-12-11</th>\n",
              "      <td>1752.260010</td>\n",
              "    </tr>\n",
              "    <tr>\n",
              "      <th>2020-12-14</th>\n",
              "      <td>1761.079956</td>\n",
              "    </tr>\n",
              "    <tr>\n",
              "      <th>2020-12-15</th>\n",
              "      <td>1757.189941</td>\n",
              "    </tr>\n",
              "    <tr>\n",
              "      <th>2020-12-16</th>\n",
              "      <td>1740.510010</td>\n",
              "    </tr>\n",
              "    <tr>\n",
              "      <th>2020-12-17</th>\n",
              "      <td>1726.219971</td>\n",
              "    </tr>\n",
              "  </tbody>\n",
              "</table>\n",
              "</div>"
            ],
            "text/plain": [
              "              Adj Close\n",
              "Date                   \n",
              "2020-12-11  1752.260010\n",
              "2020-12-14  1761.079956\n",
              "2020-12-15  1757.189941\n",
              "2020-12-16  1740.510010\n",
              "2020-12-17  1726.219971"
            ]
          },
          "metadata": {
            "tags": []
          }
        },
        {
          "output_type": "stream",
          "text": [
            "\n",
            " -----After process------ \n",
            "\n",
            "Shape of features :  (658, 4)\n",
            "Shape of target :  (658, 1)\n"
          ],
          "name": "stdout"
        },
        {
          "output_type": "display_data",
          "data": {
            "text/html": [
              "<div>\n",
              "<style scoped>\n",
              "    .dataframe tbody tr th:only-of-type {\n",
              "        vertical-align: middle;\n",
              "    }\n",
              "\n",
              "    .dataframe tbody tr th {\n",
              "        vertical-align: top;\n",
              "    }\n",
              "\n",
              "    .dataframe thead th {\n",
              "        text-align: right;\n",
              "    }\n",
              "</style>\n",
              "<table border=\"1\" class=\"dataframe\">\n",
              "  <thead>\n",
              "    <tr style=\"text-align: right;\">\n",
              "      <th></th>\n",
              "      <th>Adj Close</th>\n",
              "    </tr>\n",
              "    <tr>\n",
              "      <th>Date</th>\n",
              "      <th></th>\n",
              "    </tr>\n",
              "  </thead>\n",
              "  <tbody>\n",
              "    <tr>\n",
              "      <th>2020-08-06</th>\n",
              "      <td>1498.369995</td>\n",
              "    </tr>\n",
              "    <tr>\n",
              "      <th>2020-08-07</th>\n",
              "      <td>1496.819946</td>\n",
              "    </tr>\n",
              "    <tr>\n",
              "      <th>2020-08-10</th>\n",
              "      <td>1480.540039</td>\n",
              "    </tr>\n",
              "    <tr>\n",
              "      <th>2020-08-11</th>\n",
              "      <td>1507.239990</td>\n",
              "    </tr>\n",
              "    <tr>\n",
              "      <th>2020-08-12</th>\n",
              "      <td>1516.650024</td>\n",
              "    </tr>\n",
              "  </tbody>\n",
              "</table>\n",
              "</div>"
            ],
            "text/plain": [
              "              Adj Close\n",
              "Date                   \n",
              "2020-08-06  1498.369995\n",
              "2020-08-07  1496.819946\n",
              "2020-08-10  1480.540039\n",
              "2020-08-11  1507.239990\n",
              "2020-08-12  1516.650024"
            ]
          },
          "metadata": {
            "tags": []
          }
        }
      ]
    },
    {
      "cell_type": "code",
      "metadata": {
        "id": "bB5_gXgf6QdQ"
      },
      "source": [
        "ts_split= TimeSeriesSplit(n_splits=10)\r\n",
        "for train_index, test_index in ts_split.split(feature_minmax_transform):\r\n",
        "        X_train, X_test = feature_minmax_transform[:len(train_index)], feature_minmax_transform[len(train_index): (len(train_index)+len(test_index))]\r\n",
        "        y_train, y_test = target_adj_close[:len(train_index)].values.ravel(), target_adj_close[len(train_index): (len(train_index)+len(test_index))].values.ravel()"
      ],
      "execution_count": null,
      "outputs": []
    },
    {
      "cell_type": "code",
      "metadata": {
        "colab": {
          "base_uri": "https://localhost:8080/"
        },
        "id": "IaiN_eEA6WIF",
        "outputId": "0c4466a4-eb5d-4634-e126-f93ae74dc214"
      },
      "source": [
        "X_train.shape"
      ],
      "execution_count": null,
      "outputs": [
        {
          "output_type": "execute_result",
          "data": {
            "text/plain": [
              "(599, 4)"
            ]
          },
          "metadata": {
            "tags": []
          },
          "execution_count": 24
        }
      ]
    },
    {
      "cell_type": "code",
      "metadata": {
        "colab": {
          "base_uri": "https://localhost:8080/"
        },
        "id": "9ci-yzo66aJV",
        "outputId": "5b48b987-d87e-4716-ec7f-27f2eeb72835"
      },
      "source": [
        "X_test.shape"
      ],
      "execution_count": null,
      "outputs": [
        {
          "output_type": "execute_result",
          "data": {
            "text/plain": [
              "(59, 4)"
            ]
          },
          "metadata": {
            "tags": []
          },
          "execution_count": 25
        }
      ]
    },
    {
      "cell_type": "code",
      "metadata": {
        "colab": {
          "base_uri": "https://localhost:8080/"
        },
        "id": "L4cP9_X97C0e",
        "outputId": "d8a3fcbf-8a6f-49f3-8b14-8a19279e198f"
      },
      "source": [
        "y_train.shape"
      ],
      "execution_count": null,
      "outputs": [
        {
          "output_type": "execute_result",
          "data": {
            "text/plain": [
              "(599,)"
            ]
          },
          "metadata": {
            "tags": []
          },
          "execution_count": 26
        }
      ]
    },
    {
      "cell_type": "code",
      "metadata": {
        "colab": {
          "base_uri": "https://localhost:8080/"
        },
        "id": "4HTJoxFx7Fhd",
        "outputId": "faf0ef38-d95f-41b0-907b-5f1be014e4f9"
      },
      "source": [
        "y_test.shape"
      ],
      "execution_count": null,
      "outputs": [
        {
          "output_type": "execute_result",
          "data": {
            "text/plain": [
              "(59,)"
            ]
          },
          "metadata": {
            "tags": []
          },
          "execution_count": 27
        }
      ]
    },
    {
      "cell_type": "code",
      "metadata": {
        "id": "tDw0QJ_Q7I58"
      },
      "source": [
        "def validate_result(model, model_name):\r\n",
        "    predicted = model.predict(validation_X)\r\n",
        "    RSME_score = np.sqrt(mean_squared_error(validation_y, predicted))\r\n",
        "    print('RMSE: ', RSME_score)\r\n",
        "    \r\n",
        "    R2_score = r2_score(validation_y, predicted)\r\n",
        "    print('R2 score: ', R2_score)\r\n",
        "\r\n",
        "    plt.plot(validation_y.index, predicted,'r', label='Predict')\r\n",
        "    plt.plot(validation_y.index, validation_y,'b', label='Actual')\r\n",
        "    plt.ylabel('Price')\r\n",
        "    plt.gca().xaxis.set_major_formatter(mdates.DateFormatter('%Y-%m-%d'))\r\n",
        "    plt.gca().xaxis.set_major_locator(mdates.MonthLocator())\r\n",
        "    plt.title(model_name + ' Predict vs Actual')\r\n",
        "    plt.legend(loc='upper right')\r\n",
        "    plt.show()"
      ],
      "execution_count": null,
      "outputs": []
    },
    {
      "cell_type": "code",
      "metadata": {
        "colab": {
          "base_uri": "https://localhost:8080/",
          "height": 315
        },
        "id": "Ny6oV8Lh7bAE",
        "outputId": "fec687a7-3df9-4047-f365-dddc2f180b61"
      },
      "source": [
        "from sklearn.tree import DecisionTreeRegressor\r\n",
        "\r\n",
        "dt = DecisionTreeRegressor(random_state=0)\r\n",
        "\r\n",
        "benchmark_dt=dt.fit(X_train, y_train)\r\n",
        "\r\n",
        "validate_result(benchmark_dt, 'Decision Tree Regression')"
      ],
      "execution_count": null,
      "outputs": [
        {
          "output_type": "stream",
          "text": [
            "RMSE:  179.37775892045687\n",
            "R2 score:  -1.1551676470239247\n"
          ],
          "name": "stdout"
        },
        {
          "output_type": "display_data",
          "data": {
            "image/png": "[encoded data removed]",
            "text/plain": [
              "<Figure size 432x288 with 1 Axes>"
            ]
          },
          "metadata": {
            "tags": [],
            "needs_background": "light"
          }
        }
      ]
    },
    {
      "cell_type": "code",
      "metadata": {
        "id": "nJaJ5-bA7hMq"
      },
      "source": [
        "X_train =np.array(X_train)\r\n",
        "X_test =np.array(X_test)\r\n",
        "\r\n",
        "X_tr_t = X_train.reshape(X_train.shape[0], 1, X_train.shape[1])\r\n",
        "X_tst_t = X_test.reshape(X_test.shape[0], 1, X_test.shape[1])"
      ],
      "execution_count": null,
      "outputs": []
    },
    {
      "cell_type": "code",
      "metadata": {
        "colab": {
          "base_uri": "https://localhost:8080/"
        },
        "id": "UZZsjicu7kz8",
        "outputId": "9d870d64-66ba-4e18-828f-b4b0bb4fb282"
      },
      "source": [
        "from keras.models import Sequential\r\n",
        "from keras.layers import Dense\r\n",
        "import keras.backend as K\r\n",
        "from keras.callbacks import EarlyStopping\r\n",
        "from keras.optimizers import Adam\r\n",
        "from keras.models import load_model\r\n",
        "from keras.layers import LSTM\r\n",
        "K.clear_session()\r\n",
        "model_lstm = Sequential()\r\n",
        "model_lstm.add(LSTM(16, input_shape=(1, X_train.shape[1]), activation='relu', return_sequences=False))\r\n",
        "model_lstm.add(Dense(1))\r\n",
        "model_lstm.compile(loss='mean_squared_error', optimizer='adam')\r\n",
        "early_stop = EarlyStopping(monitor='loss', patience=5, verbose=1)\r\n",
        "history_model_lstm = model_lstm.fit(X_tr_t, y_train, epochs=200, batch_size=8, verbose=1, shuffle=False, callbacks=[early_stop])"
      ],
      "execution_count": null,
      "outputs": [
        {
          "output_type": "stream",
          "text": [
            "Epoch 1/200\n",
            "75/75 [==============================] - 2s 2ms/step - loss: 1290965.6316\n",
            "Epoch 2/200\n",
            "75/75 [==============================] - 0s 2ms/step - loss: 1290577.2089\n",
            "Epoch 3/200\n",
            "75/75 [==============================] - 0s 2ms/step - loss: 1289892.6711\n",
            "Epoch 4/200\n",
            "75/75 [==============================] - 0s 2ms/step - loss: 1288697.4901\n",
            "Epoch 5/200\n",
            "75/75 [==============================] - 0s 2ms/step - loss: 1286809.6990\n",
            "Epoch 6/200\n",
            "75/75 [==============================] - 0s 2ms/step - loss: 1284094.8701\n",
            "Epoch 7/200\n",
            "75/75 [==============================] - 0s 2ms/step - loss: 1280483.3684\n",
            "Epoch 8/200\n",
            "75/75 [==============================] - 0s 2ms/step - loss: 1275967.0888\n",
            "Epoch 9/200\n",
            "75/75 [==============================] - 0s 2ms/step - loss: 1270582.9737\n",
            "Epoch 10/200\n",
            "75/75 [==============================] - 0s 2ms/step - loss: 1264392.6365\n",
            "Epoch 11/200\n",
            "75/75 [==============================] - 0s 2ms/step - loss: 1257467.8355\n",
            "Epoch 12/200\n",
            "75/75 [==============================] - 0s 2ms/step - loss: 1249879.5230\n",
            "Epoch 13/200\n",
            "75/75 [==============================] - 0s 2ms/step - loss: 1241693.2812\n",
            "Epoch 14/200\n",
            "75/75 [==============================] - 0s 2ms/step - loss: 1232967.0362\n",
            "Epoch 15/200\n",
            "75/75 [==============================] - 0s 2ms/step - loss: 1223750.7072\n",
            "Epoch 16/200\n",
            "75/75 [==============================] - 0s 2ms/step - loss: 1214086.9046\n",
            "Epoch 17/200\n",
            "75/75 [==============================] - 0s 2ms/step - loss: 1204012.6891\n",
            "Epoch 18/200\n",
            "75/75 [==============================] - 0s 2ms/step - loss: 1193559.4342\n",
            "Epoch 19/200\n",
            "75/75 [==============================] - 0s 2ms/step - loss: 1182754.9901\n",
            "Epoch 20/200\n",
            "75/75 [==============================] - 0s 2ms/step - loss: 1171623.2188\n",
            "Epoch 21/200\n",
            "75/75 [==============================] - 0s 2ms/step - loss: 1160185.4572\n",
            "Epoch 22/200\n",
            "75/75 [==============================] - 0s 2ms/step - loss: 1148461.1497\n",
            "Epoch 23/200\n",
            "75/75 [==============================] - 0s 2ms/step - loss: 1136467.4622\n",
            "Epoch 24/200\n",
            "75/75 [==============================] - 0s 2ms/step - loss: 1124220.7410\n",
            "Epoch 25/200\n",
            "75/75 [==============================] - 0s 2ms/step - loss: 1111735.2673\n",
            "Epoch 26/200\n",
            "75/75 [==============================] - 0s 2ms/step - loss: 1099025.4704\n",
            "Epoch 27/200\n",
            "75/75 [==============================] - 0s 2ms/step - loss: 1086104.0115\n",
            "Epoch 28/200\n",
            "75/75 [==============================] - 0s 2ms/step - loss: 1072983.1645\n",
            "Epoch 29/200\n",
            "75/75 [==============================] - 0s 2ms/step - loss: 1059674.7895\n",
            "Epoch 30/200\n",
            "75/75 [==============================] - 0s 2ms/step - loss: 1046190.1513\n",
            "Epoch 31/200\n",
            "75/75 [==============================] - 0s 2ms/step - loss: 1032540.1776\n",
            "Epoch 32/200\n",
            "75/75 [==============================] - 0s 2ms/step - loss: 1018735.1727\n",
            "Epoch 33/200\n",
            "75/75 [==============================] - 0s 2ms/step - loss: 1004785.2253\n",
            "Epoch 34/200\n",
            "75/75 [==============================] - 0s 2ms/step - loss: 990700.2393\n",
            "Epoch 35/200\n",
            "75/75 [==============================] - 0s 2ms/step - loss: 976489.7590\n",
            "Epoch 36/200\n",
            "75/75 [==============================] - 0s 2ms/step - loss: 962163.0748\n",
            "Epoch 37/200\n",
            "75/75 [==============================] - 0s 2ms/step - loss: 947729.3890\n",
            "Epoch 38/200\n",
            "75/75 [==============================] - 0s 2ms/step - loss: 933197.4868\n",
            "Epoch 39/200\n",
            "75/75 [==============================] - 0s 2ms/step - loss: 918576.1349\n",
            "Epoch 40/200\n",
            "75/75 [==============================] - 0s 2ms/step - loss: 903873.8109\n",
            "Epoch 41/200\n",
            "75/75 [==============================] - 0s 2ms/step - loss: 889099.0880\n",
            "Epoch 42/200\n",
            "75/75 [==============================] - 0s 2ms/step - loss: 874260.1686\n",
            "Epoch 43/200\n",
            "75/75 [==============================] - 0s 2ms/step - loss: 859365.4169\n",
            "Epoch 44/200\n",
            "75/75 [==============================] - 0s 2ms/step - loss: 844422.3388\n",
            "Epoch 45/200\n",
            "75/75 [==============================] - 0s 2ms/step - loss: 829439.4071\n",
            "Epoch 46/200\n",
            "75/75 [==============================] - 0s 2ms/step - loss: 814423.9013\n",
            "Epoch 47/200\n",
            "75/75 [==============================] - 0s 2ms/step - loss: 799383.9712\n",
            "Epoch 48/200\n",
            "75/75 [==============================] - 0s 2ms/step - loss: 784327.1217\n",
            "Epoch 49/200\n",
            "75/75 [==============================] - 0s 2ms/step - loss: 769260.5699\n",
            "Epoch 50/200\n",
            "75/75 [==============================] - 0s 2ms/step - loss: 754191.9762\n",
            "Epoch 51/200\n",
            "75/75 [==============================] - 0s 2ms/step - loss: 739128.5798\n",
            "Epoch 52/200\n",
            "75/75 [==============================] - 0s 2ms/step - loss: 724077.5140\n",
            "Epoch 53/200\n",
            "75/75 [==============================] - 0s 2ms/step - loss: 709046.2936\n",
            "Epoch 54/200\n",
            "75/75 [==============================] - 0s 2ms/step - loss: 694041.7574\n",
            "Epoch 55/200\n",
            "75/75 [==============================] - 0s 2ms/step - loss: 679071.0123\n",
            "Epoch 56/200\n",
            "75/75 [==============================] - 0s 1ms/step - loss: 664140.9515\n",
            "Epoch 57/200\n",
            "75/75 [==============================] - 0s 2ms/step - loss: 649258.6209\n",
            "Epoch 58/200\n",
            "75/75 [==============================] - 0s 2ms/step - loss: 634430.7516\n",
            "Epoch 59/200\n",
            "75/75 [==============================] - 0s 2ms/step - loss: 619664.1875\n",
            "Epoch 60/200\n",
            "75/75 [==============================] - 0s 2ms/step - loss: 604965.3914\n",
            "Epoch 61/200\n",
            "75/75 [==============================] - 0s 2ms/step - loss: 590341.2426\n",
            "Epoch 62/200\n",
            "75/75 [==============================] - 0s 2ms/step - loss: 575798.2081\n",
            "Epoch 63/200\n",
            "75/75 [==============================] - 0s 2ms/step - loss: 561342.8717\n",
            "Epoch 64/200\n",
            "75/75 [==============================] - 0s 2ms/step - loss: 546981.5008\n",
            "Epoch 65/200\n",
            "75/75 [==============================] - 0s 2ms/step - loss: 532720.4646\n",
            "Epoch 66/200\n",
            "75/75 [==============================] - 0s 2ms/step - loss: 518566.2640\n",
            "Epoch 67/200\n",
            "75/75 [==============================] - 0s 2ms/step - loss: 504525.0670\n",
            "Epoch 68/200\n",
            "75/75 [==============================] - 0s 2ms/step - loss: 490602.9905\n",
            "Epoch 69/200\n",
            "75/75 [==============================] - 0s 2ms/step - loss: 476806.0633\n",
            "Epoch 70/200\n",
            "75/75 [==============================] - 0s 2ms/step - loss: 463140.4428\n",
            "Epoch 71/200\n",
            "75/75 [==============================] - 0s 2ms/step - loss: 449612.0469\n",
            "Epoch 72/200\n",
            "75/75 [==============================] - 0s 2ms/step - loss: 436226.6657\n",
            "Epoch 73/200\n",
            "75/75 [==============================] - 0s 2ms/step - loss: 422990.1567\n",
            "Epoch 74/200\n",
            "75/75 [==============================] - 0s 2ms/step - loss: 409908.2998\n",
            "Epoch 75/200\n",
            "75/75 [==============================] - 0s 2ms/step - loss: 396986.6312\n",
            "Epoch 76/200\n",
            "75/75 [==============================] - 0s 2ms/step - loss: 384230.5954\n",
            "Epoch 77/200\n",
            "75/75 [==============================] - 0s 2ms/step - loss: 371645.7611\n",
            "Epoch 78/200\n",
            "75/75 [==============================] - 0s 2ms/step - loss: 359237.3795\n",
            "Epoch 79/200\n",
            "75/75 [==============================] - 0s 2ms/step - loss: 347010.6591\n",
            "Epoch 80/200\n",
            "75/75 [==============================] - 0s 2ms/step - loss: 334970.8347\n",
            "Epoch 81/200\n",
            "75/75 [==============================] - 0s 2ms/step - loss: 323122.7599\n",
            "Epoch 82/200\n",
            "75/75 [==============================] - 0s 2ms/step - loss: 311471.2340\n",
            "Epoch 83/200\n",
            "75/75 [==============================] - 0s 2ms/step - loss: 300021.1760\n",
            "Epoch 84/200\n",
            "75/75 [==============================] - 0s 2ms/step - loss: 288777.1990\n",
            "Epoch 85/200\n",
            "75/75 [==============================] - 0s 2ms/step - loss: 277743.5448\n",
            "Epoch 86/200\n",
            "75/75 [==============================] - 0s 2ms/step - loss: 266924.9233\n",
            "Epoch 87/200\n",
            "75/75 [==============================] - 0s 2ms/step - loss: 256325.1984\n",
            "Epoch 88/200\n",
            "75/75 [==============================] - 0s 2ms/step - loss: 245948.4836\n",
            "Epoch 89/200\n",
            "75/75 [==============================] - 0s 2ms/step - loss: 235798.5461\n",
            "Epoch 90/200\n",
            "75/75 [==============================] - 0s 2ms/step - loss: 225878.9940\n",
            "Epoch 91/200\n",
            "75/75 [==============================] - 0s 2ms/step - loss: 216193.4842\n",
            "Epoch 92/200\n",
            "75/75 [==============================] - 0s 2ms/step - loss: 206745.0173\n",
            "Epoch 93/200\n",
            "75/75 [==============================] - 0s 2ms/step - loss: 197536.6931\n",
            "Epoch 94/200\n",
            "75/75 [==============================] - 0s 2ms/step - loss: 188571.5241\n",
            "Epoch 95/200\n",
            "75/75 [==============================] - 0s 2ms/step - loss: 179851.9252\n",
            "Epoch 96/200\n",
            "75/75 [==============================] - 0s 2ms/step - loss: 171380.1922\n",
            "Epoch 97/200\n",
            "75/75 [==============================] - 0s 2ms/step - loss: 163158.5376\n",
            "Epoch 98/200\n",
            "75/75 [==============================] - 0s 2ms/step - loss: 155188.5292\n",
            "Epoch 99/200\n",
            "75/75 [==============================] - 0s 2ms/step - loss: 147471.9036\n",
            "Epoch 100/200\n",
            "75/75 [==============================] - 0s 2ms/step - loss: 140009.7465\n",
            "Epoch 101/200\n",
            "75/75 [==============================] - 0s 2ms/step - loss: 132803.1443\n",
            "Epoch 102/200\n",
            "75/75 [==============================] - 0s 2ms/step - loss: 125852.5731\n",
            "Epoch 103/200\n",
            "75/75 [==============================] - 0s 2ms/step - loss: 119158.3260\n",
            "Epoch 104/200\n",
            "75/75 [==============================] - 0s 2ms/step - loss: 112720.2845\n",
            "Epoch 105/200\n",
            "75/75 [==============================] - 0s 2ms/step - loss: 106538.1199\n",
            "Epoch 106/200\n",
            "75/75 [==============================] - 0s 2ms/step - loss: 100610.7696\n",
            "Epoch 107/200\n",
            "75/75 [==============================] - 0s 2ms/step - loss: 94937.0774\n",
            "Epoch 108/200\n",
            "75/75 [==============================] - 0s 2ms/step - loss: 89515.4632\n",
            "Epoch 109/200\n",
            "75/75 [==============================] - 0s 2ms/step - loss: 84343.8360\n",
            "Epoch 110/200\n",
            "75/75 [==============================] - 0s 2ms/step - loss: 79419.6954\n",
            "Epoch 111/200\n",
            "75/75 [==============================] - 0s 2ms/step - loss: 74740.0900\n",
            "Epoch 112/200\n",
            "75/75 [==============================] - 0s 2ms/step - loss: 70301.7011\n",
            "Epoch 113/200\n",
            "75/75 [==============================] - 0s 2ms/step - loss: 66100.6124\n",
            "Epoch 114/200\n",
            "75/75 [==============================] - 0s 2ms/step - loss: 62132.5230\n",
            "Epoch 115/200\n",
            "75/75 [==============================] - 0s 2ms/step - loss: 58392.8478\n",
            "Epoch 116/200\n",
            "75/75 [==============================] - 0s 2ms/step - loss: 54876.1823\n",
            "Epoch 117/200\n",
            "75/75 [==============================] - 0s 2ms/step - loss: 51576.9390\n",
            "Epoch 118/200\n",
            "75/75 [==============================] - 0s 2ms/step - loss: 48489.0562\n",
            "Epoch 119/200\n",
            "75/75 [==============================] - 0s 2ms/step - loss: 45605.9825\n",
            "Epoch 120/200\n",
            "75/75 [==============================] - 0s 2ms/step - loss: 42920.7485\n",
            "Epoch 121/200\n",
            "75/75 [==============================] - 0s 2ms/step - loss: 40426.0895\n",
            "Epoch 122/200\n",
            "75/75 [==============================] - 0s 2ms/step - loss: 38114.3386\n",
            "Epoch 123/200\n",
            "75/75 [==============================] - 0s 2ms/step - loss: 35977.4787\n",
            "Epoch 124/200\n",
            "75/75 [==============================] - 0s 2ms/step - loss: 34007.3192\n",
            "Epoch 125/200\n",
            "75/75 [==============================] - 0s 2ms/step - loss: 32195.3733\n",
            "Epoch 126/200\n",
            "75/75 [==============================] - 0s 2ms/step - loss: 30532.9839\n",
            "Epoch 127/200\n",
            "75/75 [==============================] - 0s 2ms/step - loss: 29011.4558\n",
            "Epoch 128/200\n",
            "75/75 [==============================] - 0s 2ms/step - loss: 27622.0343\n",
            "Epoch 129/200\n",
            "75/75 [==============================] - 0s 2ms/step - loss: 26355.9970\n",
            "Epoch 130/200\n",
            "75/75 [==============================] - 0s 2ms/step - loss: 25204.6185\n",
            "Epoch 131/200\n",
            "75/75 [==============================] - 0s 2ms/step - loss: 24159.3795\n",
            "Epoch 132/200\n",
            "75/75 [==============================] - 0s 2ms/step - loss: 23211.9886\n",
            "Epoch 133/200\n",
            "75/75 [==============================] - 0s 2ms/step - loss: 22354.4018\n",
            "Epoch 134/200\n",
            "75/75 [==============================] - 0s 2ms/step - loss: 21578.9099\n",
            "Epoch 135/200\n",
            "75/75 [==============================] - 0s 2ms/step - loss: 20878.2055\n",
            "Epoch 136/200\n",
            "75/75 [==============================] - 0s 2ms/step - loss: 20245.3079\n",
            "Epoch 137/200\n",
            "75/75 [==============================] - 0s 2ms/step - loss: 19673.6814\n",
            "Epoch 138/200\n",
            "75/75 [==============================] - 0s 2ms/step - loss: 19157.2527\n",
            "Epoch 139/200\n",
            "75/75 [==============================] - 0s 2ms/step - loss: 18690.4224\n",
            "Epoch 140/200\n",
            "75/75 [==============================] - 0s 2ms/step - loss: 18267.9570\n",
            "Epoch 141/200\n",
            "75/75 [==============================] - 0s 2ms/step - loss: 17885.1163\n",
            "Epoch 142/200\n",
            "75/75 [==============================] - 0s 2ms/step - loss: 17537.6738\n",
            "Epoch 143/200\n",
            "75/75 [==============================] - 0s 2ms/step - loss: 17221.6484\n",
            "Epoch 144/200\n",
            "75/75 [==============================] - 0s 2ms/step - loss: 16933.5534\n",
            "Epoch 145/200\n",
            "75/75 [==============================] - 0s 2ms/step - loss: 16670.2405\n",
            "Epoch 146/200\n",
            "75/75 [==============================] - 0s 2ms/step - loss: 16428.8511\n",
            "Epoch 147/200\n",
            "75/75 [==============================] - 0s 2ms/step - loss: 16206.8687\n",
            "Epoch 148/200\n",
            "75/75 [==============================] - 0s 2ms/step - loss: 16002.0882\n",
            "Epoch 149/200\n",
            "75/75 [==============================] - 0s 2ms/step - loss: 15812.4756\n",
            "Epoch 150/200\n",
            "75/75 [==============================] - 0s 2ms/step - loss: 15636.3069\n",
            "Epoch 151/200\n",
            "75/75 [==============================] - 0s 2ms/step - loss: 15472.0202\n",
            "Epoch 152/200\n",
            "75/75 [==============================] - 0s 2ms/step - loss: 15318.2322\n",
            "Epoch 153/200\n",
            "75/75 [==============================] - 0s 2ms/step - loss: 15173.7253\n",
            "Epoch 154/200\n",
            "75/75 [==============================] - 0s 2ms/step - loss: 15037.4339\n",
            "Epoch 155/200\n",
            "75/75 [==============================] - 0s 2ms/step - loss: 14908.4169\n",
            "Epoch 156/200\n",
            "75/75 [==============================] - 0s 2ms/step - loss: 14785.8469\n",
            "Epoch 157/200\n",
            "75/75 [==============================] - 0s 2ms/step - loss: 14668.9705\n",
            "Epoch 158/200\n",
            "75/75 [==============================] - 0s 2ms/step - loss: 14557.1394\n",
            "Epoch 159/200\n",
            "75/75 [==============================] - 0s 2ms/step - loss: 14449.8154\n",
            "Epoch 160/200\n",
            "75/75 [==============================] - 0s 2ms/step - loss: 14346.4760\n",
            "Epoch 161/200\n",
            "75/75 [==============================] - 0s 2ms/step - loss: 14246.6767\n",
            "Epoch 162/200\n",
            "75/75 [==============================] - 0s 2ms/step - loss: 14150.0660\n",
            "Epoch 163/200\n",
            "75/75 [==============================] - 0s 2ms/step - loss: 14056.2724\n",
            "Epoch 164/200\n",
            "75/75 [==============================] - 0s 2ms/step - loss: 13965.0040\n",
            "Epoch 165/200\n",
            "75/75 [==============================] - 0s 2ms/step - loss: 13875.9998\n",
            "Epoch 166/200\n",
            "75/75 [==============================] - 0s 2ms/step - loss: 13789.0323\n",
            "Epoch 167/200\n",
            "75/75 [==============================] - 0s 2ms/step - loss: 13703.8827\n",
            "Epoch 168/200\n",
            "75/75 [==============================] - 0s 2ms/step - loss: 13620.3863\n",
            "Epoch 169/200\n",
            "75/75 [==============================] - 0s 2ms/step - loss: 13538.3838\n",
            "Epoch 170/200\n",
            "75/75 [==============================] - 0s 2ms/step - loss: 13457.7249\n",
            "Epoch 171/200\n",
            "75/75 [==============================] - 0s 2ms/step - loss: 13378.2723\n",
            "Epoch 172/200\n",
            "75/75 [==============================] - 0s 2ms/step - loss: 13299.9489\n",
            "Epoch 173/200\n",
            "75/75 [==============================] - 0s 2ms/step - loss: 13222.6453\n",
            "Epoch 174/200\n",
            "75/75 [==============================] - 0s 2ms/step - loss: 13146.2635\n",
            "Epoch 175/200\n",
            "75/75 [==============================] - 0s 2ms/step - loss: 13070.7480\n",
            "Epoch 176/200\n",
            "75/75 [==============================] - 0s 2ms/step - loss: 12996.0216\n",
            "Epoch 177/200\n",
            "75/75 [==============================] - 0s 2ms/step - loss: 12922.0438\n",
            "Epoch 178/200\n",
            "75/75 [==============================] - 0s 2ms/step - loss: 12848.7562\n",
            "Epoch 179/200\n",
            "75/75 [==============================] - 0s 2ms/step - loss: 12776.1282\n",
            "Epoch 180/200\n",
            "75/75 [==============================] - 0s 2ms/step - loss: 12704.0649\n",
            "Epoch 181/200\n",
            "75/75 [==============================] - 0s 2ms/step - loss: 12632.5824\n",
            "Epoch 182/200\n",
            "75/75 [==============================] - 0s 2ms/step - loss: 12561.6403\n",
            "Epoch 183/200\n",
            "75/75 [==============================] - 0s 2ms/step - loss: 12491.2062\n",
            "Epoch 184/200\n",
            "75/75 [==============================] - 0s 2ms/step - loss: 12421.2376\n",
            "Epoch 185/200\n",
            "75/75 [==============================] - 0s 2ms/step - loss: 12351.6875\n",
            "Epoch 186/200\n",
            "75/75 [==============================] - 0s 1ms/step - loss: 12282.5830\n",
            "Epoch 187/200\n",
            "75/75 [==============================] - 0s 2ms/step - loss: 12213.8902\n",
            "Epoch 188/200\n",
            "75/75 [==============================] - 0s 2ms/step - loss: 12145.5999\n",
            "Epoch 189/200\n",
            "75/75 [==============================] - 0s 2ms/step - loss: 12077.6984\n",
            "Epoch 190/200\n",
            "75/75 [==============================] - 0s 2ms/step - loss: 12010.1539\n",
            "Epoch 191/200\n",
            "75/75 [==============================] - 0s 2ms/step - loss: 11942.9794\n",
            "Epoch 192/200\n",
            "75/75 [==============================] - 0s 2ms/step - loss: 11876.1475\n",
            "Epoch 193/200\n",
            "75/75 [==============================] - 0s 2ms/step - loss: 11809.6564\n",
            "Epoch 194/200\n",
            "75/75 [==============================] - 0s 2ms/step - loss: 11743.4676\n",
            "Epoch 195/200\n",
            "75/75 [==============================] - 0s 2ms/step - loss: 11677.6244\n",
            "Epoch 196/200\n",
            "75/75 [==============================] - 0s 2ms/step - loss: 11612.0630\n",
            "Epoch 197/200\n",
            "75/75 [==============================] - 0s 2ms/step - loss: 11546.8120\n",
            "Epoch 198/200\n",
            "75/75 [==============================] - 0s 2ms/step - loss: 11481.8542\n",
            "Epoch 199/200\n",
            "75/75 [==============================] - 0s 2ms/step - loss: 11417.1812\n",
            "Epoch 200/200\n",
            "75/75 [==============================] - 0s 2ms/step - loss: 11352.7801\n"
          ],
          "name": "stdout"
        }
      ]
    },
    {
      "cell_type": "code",
      "metadata": {
        "colab": {
          "base_uri": "https://localhost:8080/"
        },
        "id": "N6K4NztJ7vwp",
        "outputId": "e549ad10-dc1c-4f77-a3aa-3a3c42230f39"
      },
      "source": [
        "y_pred_test_lstm = model_lstm.predict(X_tst_t)\r\n",
        "y_train_pred_lstm = model_lstm.predict(X_tr_t)\r\n",
        "print(\"The R2 score on the Train set is:\\t{:0.3f}\".format(r2_score(y_train, y_train_pred_lstm)))\r\n",
        "r2_train = r2_score(y_train, y_train_pred_lstm)\r\n",
        "\r\n",
        "print(\"The R2 score on the Test set is:\\t{:0.3f}\".format(r2_score(y_test, y_pred_test_lstm)))\r\n",
        "r2_test = r2_score(y_test, y_pred_test_lstm)"
      ],
      "execution_count": null,
      "outputs": [
        {
          "output_type": "stream",
          "text": [
            "The R2 score on the Train set is:\t0.011\n",
            "The R2 score on the Test set is:\t-16.760\n"
          ],
          "name": "stdout"
        }
      ]
    },
    {
      "cell_type": "code",
      "metadata": {
        "colab": {
          "base_uri": "https://localhost:8080/"
        },
        "id": "DaE9p-gZ70zZ",
        "outputId": "fd63866f-fee0-4a60-bdab-3aa8ee5deebb"
      },
      "source": [
        "score_lstm= model_lstm.evaluate(X_tst_t, y_test, batch_size=1)"
      ],
      "execution_count": null,
      "outputs": [
        {
          "output_type": "stream",
          "text": [
            "59/59 [==============================] - 0s 786us/step - loss: 39024.7461\n"
          ],
          "name": "stdout"
        }
      ]
    },
    {
      "cell_type": "code",
      "metadata": {
        "colab": {
          "base_uri": "https://localhost:8080/"
        },
        "id": "XHKzXSMO753C",
        "outputId": "ade783f0-a311-498d-88f2-40a24bd1ad6b"
      },
      "source": [
        "print('LSTM: %f'%score_lstm)"
      ],
      "execution_count": null,
      "outputs": [
        {
          "output_type": "stream",
          "text": [
            "LSTM: 39024.746094\n"
          ],
          "name": "stdout"
        }
      ]
    },
    {
      "cell_type": "code",
      "metadata": {
        "id": "1W6KQVne78gn"
      },
      "source": [
        "y_pred_test_LSTM = model_lstm.predict(X_tst_t)"
      ],
      "execution_count": null,
      "outputs": []
    },
    {
      "cell_type": "code",
      "metadata": {
        "colab": {
          "base_uri": "https://localhost:8080/",
          "height": 295
        },
        "id": "l3jD8rC87_Zx",
        "outputId": "c766afa1-437a-4b56-dbc7-15d706b0148a"
      },
      "source": [
        "\r\n",
        "plt.plot(y_test, label='True')\r\n",
        "plt.plot(y_pred_test_LSTM, label='LSTM')\r\n",
        "plt.title(\"LSTM's_Prediction\")\r\n",
        "plt.xlabel('Observation')\r\n",
        "plt.ylabel('INR_Scaled')\r\n",
        "plt.legend()\r\n",
        "plt.show()"
      ],
      "execution_count": null,
      "outputs": [
        {
          "output_type": "display_data",
          "data": {
            "image/png": "[encoded data removed]",
            "text/plain": [
              "<Figure size 432x288 with 1 Axes>"
            ]
          },
          "metadata": {
            "tags": [],
            "needs_background": "light"
          }
        }
      ]
    },
    {
      "cell_type": "code",
      "metadata": {
        "id": "GxUbpVGt8Hxz"
      },
      "source": [
        "col1 = pd.DataFrame(y_test, columns=['True'])\r\n",
        "\r\n",
        "col2 = pd.DataFrame(y_pred_test_LSTM, columns=['LSTM_prediction'])\r\n",
        "\r\n",
        "col3 = pd.DataFrame(history_model_lstm.history['loss'], columns=['Loss_LSTM'])\r\n",
        "results = pd.concat([col1, col2, col3], axis=1)\r\n",
        "results.to_excel('PredictionResults_LSTM_NonShift.xlsx')"
      ],
      "execution_count": null,
      "outputs": []
    }
  ]
}