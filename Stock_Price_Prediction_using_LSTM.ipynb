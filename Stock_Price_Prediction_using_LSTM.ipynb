{
  "nbformat": 4,
  "nbformat_minor": 0,
  "metadata": {
    "colab": {
      "name": "Stock Price Prediction using LSTM.ipynb",
      "provenance": [],
      "authorship_tag": "ABX9TyPM1v/i7VweqBvehoTN9PSl",
      "include_colab_link": true
    },
    "kernelspec": {
      "name": "python3",
      "display_name": "Python 3"
    }
  },
  "cells": [
    {
      "cell_type": "markdown",
      "metadata": {
        "id": "view-in-github",
        "colab_type": "text"
      },
      "source": [
        "<a href=\"https://colab.research.google.com/github/chiranjeevi-manike/Stock-Price-Prediction/blob/master/Stock_Price_Prediction_using_LSTM.ipynb\" target=\"_parent\"><img src=\"https://colab.research.google.com/assets/colab-badge.svg\" alt=\"Open In Colab\"/></a>"
      ]
    },
    {
      "cell_type": "markdown",
      "metadata": {
        "id": "bfgWz0hLWP3x"
      },
      "source": [
        "# **Stock Price Prediction Using LSTM**"
      ]
    },
    {
      "cell_type": "code",
      "metadata": {
        "colab": {
          "base_uri": "https://localhost:8080/"
        },
        "id": "G3UEbtFrDUwU",
        "outputId": "2dc2ef05-a413-4594-c7d5-9134975ab301"
      },
      "source": [
        "!pip install yfinance"
      ],
      "execution_count": 1,
      "outputs": [
        {
          "output_type": "stream",
          "text": [
            "Collecting yfinance\n",
            "  Downloading https://files.pythonhosted.org/packages/7a/e8/b9d7104d3a4bf39924799067592d9e59119fcfc900a425a12e80a3123ec8/yfinance-0.1.55.tar.gz\n",
            "Requirement already satisfied: pandas>=0.24 in /usr/local/lib/python3.6/dist-packages (from yfinance) (1.1.5)\n",
            "Requirement already satisfied: numpy>=1.15 in /usr/local/lib/python3.6/dist-packages (from yfinance) (1.19.4)\n",
            "Requirement already satisfied: requests>=2.20 in /usr/local/lib/python3.6/dist-packages (from yfinance) (2.23.0)\n",
            "Requirement already satisfied: multitasking>=0.0.7 in /usr/local/lib/python3.6/dist-packages (from yfinance) (0.0.9)\n",
            "Collecting lxml>=4.5.1\n",
            "\u001b[?25l  Downloading https://files.pythonhosted.org/packages/bd/78/56a7c88a57d0d14945472535d0df9fb4bbad7d34ede658ec7961635c790e/lxml-4.6.2-cp36-cp36m-manylinux1_x86_64.whl (5.5MB)\n",
            "\u001b[K     |████████████████████████████████| 5.5MB 19.6MB/s \n",
            "\u001b[?25hRequirement already satisfied: pytz>=2017.2 in /usr/local/lib/python3.6/dist-packages (from pandas>=0.24->yfinance) (2018.9)\n",
            "Requirement already satisfied: python-dateutil>=2.7.3 in /usr/local/lib/python3.6/dist-packages (from pandas>=0.24->yfinance) (2.8.1)\n",
            "Requirement already satisfied: certifi>=2017.4.17 in /usr/local/lib/python3.6/dist-packages (from requests>=2.20->yfinance) (2020.12.5)\n",
            "Requirement already satisfied: idna<3,>=2.5 in /usr/local/lib/python3.6/dist-packages (from requests>=2.20->yfinance) (2.10)\n",
            "Requirement already satisfied: chardet<4,>=3.0.2 in /usr/local/lib/python3.6/dist-packages (from requests>=2.20->yfinance) (3.0.4)\n",
            "Requirement already satisfied: urllib3!=1.25.0,!=1.25.1,<1.26,>=1.21.1 in /usr/local/lib/python3.6/dist-packages (from requests>=2.20->yfinance) (1.24.3)\n",
            "Requirement already satisfied: six>=1.5 in /usr/local/lib/python3.6/dist-packages (from python-dateutil>=2.7.3->pandas>=0.24->yfinance) (1.15.0)\n",
            "Building wheels for collected packages: yfinance\n",
            "  Building wheel for yfinance (setup.py) ... \u001b[?25l\u001b[?25hdone\n",
            "  Created wheel for yfinance: filename=yfinance-0.1.55-py2.py3-none-any.whl size=22616 sha256=d864e02455cb9dac052098f53bd1f645a855bdc69e8a2d66c9cecd6493c38ce8\n",
            "  Stored in directory: /root/.cache/pip/wheels/04/98/cc/2702a4242d60bdc14f48b4557c427ded1fe92aedf257d4565c\n",
            "Successfully built yfinance\n",
            "Installing collected packages: lxml, yfinance\n",
            "  Found existing installation: lxml 4.2.6\n",
            "    Uninstalling lxml-4.2.6:\n",
            "      Successfully uninstalled lxml-4.2.6\n",
            "Successfully installed lxml-4.6.2 yfinance-0.1.55\n"
          ],
          "name": "stdout"
        }
      ]
    },
    {
      "cell_type": "code",
      "metadata": {
        "id": "-dxIMvS6DjjH"
      },
      "source": [
        "import yfinance as yf"
      ],
      "execution_count": 2,
      "outputs": []
    },
    {
      "cell_type": "code",
      "metadata": {
        "colab": {
          "base_uri": "https://localhost:8080/"
        },
        "id": "9clK1zT0DlW5",
        "outputId": "2cc86332-6f0e-4641-b749-11aad43d1157"
      },
      "source": [
        "data = yf.download('GOOGL', start = '2000-01-01', end = '2020-12-20', progress = True)"
      ],
      "execution_count": 14,
      "outputs": [
        {
          "output_type": "stream",
          "text": [
            "\r[*********************100%***********************]  1 of 1 completed\n"
          ],
          "name": "stdout"
        }
      ]
    },
    {
      "cell_type": "code",
      "metadata": {
        "colab": {
          "base_uri": "https://localhost:8080/",
          "height": 235
        },
        "id": "S5owjdmnEdKe",
        "outputId": "e963d060-71b1-46d9-9622-2147916102a3"
      },
      "source": [
        "data.head()"
      ],
      "execution_count": 15,
      "outputs": [
        {
          "output_type": "execute_result",
          "data": {
            "text/html": [
              "<div>\n",
              "<style scoped>\n",
              "    .dataframe tbody tr th:only-of-type {\n",
              "        vertical-align: middle;\n",
              "    }\n",
              "\n",
              "    .dataframe tbody tr th {\n",
              "        vertical-align: top;\n",
              "    }\n",
              "\n",
              "    .dataframe thead th {\n",
              "        text-align: right;\n",
              "    }\n",
              "</style>\n",
              "<table border=\"1\" class=\"dataframe\">\n",
              "  <thead>\n",
              "    <tr style=\"text-align: right;\">\n",
              "      <th></th>\n",
              "      <th>Open</th>\n",
              "      <th>High</th>\n",
              "      <th>Low</th>\n",
              "      <th>Close</th>\n",
              "      <th>Adj Close</th>\n",
              "      <th>Volume</th>\n",
              "    </tr>\n",
              "    <tr>\n",
              "      <th>Date</th>\n",
              "      <th></th>\n",
              "      <th></th>\n",
              "      <th></th>\n",
              "      <th></th>\n",
              "      <th></th>\n",
              "      <th></th>\n",
              "    </tr>\n",
              "  </thead>\n",
              "  <tbody>\n",
              "    <tr>\n",
              "      <th>2004-08-19</th>\n",
              "      <td>50.050049</td>\n",
              "      <td>52.082081</td>\n",
              "      <td>48.028027</td>\n",
              "      <td>50.220219</td>\n",
              "      <td>50.220219</td>\n",
              "      <td>44659000</td>\n",
              "    </tr>\n",
              "    <tr>\n",
              "      <th>2004-08-20</th>\n",
              "      <td>50.555557</td>\n",
              "      <td>54.594593</td>\n",
              "      <td>50.300301</td>\n",
              "      <td>54.209209</td>\n",
              "      <td>54.209209</td>\n",
              "      <td>22834300</td>\n",
              "    </tr>\n",
              "    <tr>\n",
              "      <th>2004-08-23</th>\n",
              "      <td>55.430431</td>\n",
              "      <td>56.796795</td>\n",
              "      <td>54.579578</td>\n",
              "      <td>54.754753</td>\n",
              "      <td>54.754753</td>\n",
              "      <td>18256100</td>\n",
              "    </tr>\n",
              "    <tr>\n",
              "      <th>2004-08-24</th>\n",
              "      <td>55.675674</td>\n",
              "      <td>55.855854</td>\n",
              "      <td>51.836838</td>\n",
              "      <td>52.487488</td>\n",
              "      <td>52.487488</td>\n",
              "      <td>15247300</td>\n",
              "    </tr>\n",
              "    <tr>\n",
              "      <th>2004-08-25</th>\n",
              "      <td>52.532532</td>\n",
              "      <td>54.054054</td>\n",
              "      <td>51.991993</td>\n",
              "      <td>53.053055</td>\n",
              "      <td>53.053055</td>\n",
              "      <td>9188600</td>\n",
              "    </tr>\n",
              "  </tbody>\n",
              "</table>\n",
              "</div>"
            ],
            "text/plain": [
              "                 Open       High        Low      Close  Adj Close    Volume\n",
              "Date                                                                       \n",
              "2004-08-19  50.050049  52.082081  48.028027  50.220219  50.220219  44659000\n",
              "2004-08-20  50.555557  54.594593  50.300301  54.209209  54.209209  22834300\n",
              "2004-08-23  55.430431  56.796795  54.579578  54.754753  54.754753  18256100\n",
              "2004-08-24  55.675674  55.855854  51.836838  52.487488  52.487488  15247300\n",
              "2004-08-25  52.532532  54.054054  51.991993  53.053055  53.053055   9188600"
            ]
          },
          "metadata": {
            "tags": []
          },
          "execution_count": 15
        }
      ]
    },
    {
      "cell_type": "code",
      "metadata": {
        "id": "lEaQZR2UDmlw"
      },
      "source": [
        "data.to_csv('google.csv',index = True)"
      ],
      "execution_count": 16,
      "outputs": []
    },
    {
      "cell_type": "code",
      "metadata": {
        "id": "k5yYebu5EK8q"
      },
      "source": [
        "import pandas as pd\r\n",
        "import numpy as np\r\n",
        "%matplotlib inline\r\n",
        "import matplotlib.pyplot as plt\r\n",
        "import matplotlib\r\n",
        "from sklearn.preprocessing import MinMaxScaler\r\n",
        "from keras.layers import LSTM,Dense,Dropout\r\n",
        "from sklearn.model_selection import TimeSeriesSplit\r\n",
        "from sklearn.metrics import mean_squared_error, r2_score\r\n",
        "import matplotlib.dates as mdates\r\n",
        "from sklearn import linear_model"
      ],
      "execution_count": 17,
      "outputs": []
    },
    {
      "cell_type": "markdown",
      "metadata": {
        "id": "SwxGIhWEfrT-"
      },
      "source": [
        "# **Reading data using parse date**\r\n",
        "\r\n",
        "As it is timeseries data so we have to read the data by parsing date means making data column as index.\r\n",
        "\r\n"
      ]
    },
    {
      "cell_type": "code",
      "metadata": {
        "id": "6RXa6s5rESAH"
      },
      "source": [
        "df_final = pd.read_csv(\"google.csv\",na_values=['null'],index_col='Date',parse_dates=True,infer_datetime_format=True)"
      ],
      "execution_count": 19,
      "outputs": []
    },
    {
      "cell_type": "code",
      "metadata": {
        "colab": {
          "base_uri": "https://localhost:8080/",
          "height": 235
        },
        "id": "yIKXApAOFl4d",
        "outputId": "f80c9ec6-1c83-45e5-cbc9-de01019a96bc"
      },
      "source": [
        "df_final.head()"
      ],
      "execution_count": 20,
      "outputs": [
        {
          "output_type": "execute_result",
          "data": {
            "text/html": [
              "<div>\n",
              "<style scoped>\n",
              "    .dataframe tbody tr th:only-of-type {\n",
              "        vertical-align: middle;\n",
              "    }\n",
              "\n",
              "    .dataframe tbody tr th {\n",
              "        vertical-align: top;\n",
              "    }\n",
              "\n",
              "    .dataframe thead th {\n",
              "        text-align: right;\n",
              "    }\n",
              "</style>\n",
              "<table border=\"1\" class=\"dataframe\">\n",
              "  <thead>\n",
              "    <tr style=\"text-align: right;\">\n",
              "      <th></th>\n",
              "      <th>Open</th>\n",
              "      <th>High</th>\n",
              "      <th>Low</th>\n",
              "      <th>Close</th>\n",
              "      <th>Adj Close</th>\n",
              "      <th>Volume</th>\n",
              "    </tr>\n",
              "    <tr>\n",
              "      <th>Date</th>\n",
              "      <th></th>\n",
              "      <th></th>\n",
              "      <th></th>\n",
              "      <th></th>\n",
              "      <th></th>\n",
              "      <th></th>\n",
              "    </tr>\n",
              "  </thead>\n",
              "  <tbody>\n",
              "    <tr>\n",
              "      <th>2004-08-19</th>\n",
              "      <td>50.050049</td>\n",
              "      <td>52.082081</td>\n",
              "      <td>48.028027</td>\n",
              "      <td>50.220219</td>\n",
              "      <td>50.220219</td>\n",
              "      <td>44659000</td>\n",
              "    </tr>\n",
              "    <tr>\n",
              "      <th>2004-08-20</th>\n",
              "      <td>50.555557</td>\n",
              "      <td>54.594593</td>\n",
              "      <td>50.300301</td>\n",
              "      <td>54.209209</td>\n",
              "      <td>54.209209</td>\n",
              "      <td>22834300</td>\n",
              "    </tr>\n",
              "    <tr>\n",
              "      <th>2004-08-23</th>\n",
              "      <td>55.430431</td>\n",
              "      <td>56.796795</td>\n",
              "      <td>54.579578</td>\n",
              "      <td>54.754753</td>\n",
              "      <td>54.754753</td>\n",
              "      <td>18256100</td>\n",
              "    </tr>\n",
              "    <tr>\n",
              "      <th>2004-08-24</th>\n",
              "      <td>55.675674</td>\n",
              "      <td>55.855854</td>\n",
              "      <td>51.836838</td>\n",
              "      <td>52.487488</td>\n",
              "      <td>52.487488</td>\n",
              "      <td>15247300</td>\n",
              "    </tr>\n",
              "    <tr>\n",
              "      <th>2004-08-25</th>\n",
              "      <td>52.532532</td>\n",
              "      <td>54.054054</td>\n",
              "      <td>51.991993</td>\n",
              "      <td>53.053055</td>\n",
              "      <td>53.053055</td>\n",
              "      <td>9188600</td>\n",
              "    </tr>\n",
              "  </tbody>\n",
              "</table>\n",
              "</div>"
            ],
            "text/plain": [
              "                 Open       High        Low      Close  Adj Close    Volume\n",
              "Date                                                                       \n",
              "2004-08-19  50.050049  52.082081  48.028027  50.220219  50.220219  44659000\n",
              "2004-08-20  50.555557  54.594593  50.300301  54.209209  54.209209  22834300\n",
              "2004-08-23  55.430431  56.796795  54.579578  54.754753  54.754753  18256100\n",
              "2004-08-24  55.675674  55.855854  51.836838  52.487488  52.487488  15247300\n",
              "2004-08-25  52.532532  54.054054  51.991993  53.053055  53.053055   9188600"
            ]
          },
          "metadata": {
            "tags": []
          },
          "execution_count": 20
        }
      ]
    },
    {
      "cell_type": "code",
      "metadata": {
        "colab": {
          "base_uri": "https://localhost:8080/"
        },
        "id": "1h458YEXGxPy",
        "outputId": "d8c1eff8-282e-44dd-be10-fba1836b7766"
      },
      "source": [
        "df_final.shape"
      ],
      "execution_count": 21,
      "outputs": [
        {
          "output_type": "execute_result",
          "data": {
            "text/plain": [
              "(4114, 6)"
            ]
          },
          "metadata": {
            "tags": []
          },
          "execution_count": 21
        }
      ]
    },
    {
      "cell_type": "code",
      "metadata": {
        "colab": {
          "base_uri": "https://localhost:8080/",
          "height": 297
        },
        "id": "tzY9FotBHz8D",
        "outputId": "857b9d8c-56fb-4fb4-a18b-bf7588544f3e"
      },
      "source": [
        "df_final.describe()"
      ],
      "execution_count": 22,
      "outputs": [
        {
          "output_type": "execute_result",
          "data": {
            "text/html": [
              "<div>\n",
              "<style scoped>\n",
              "    .dataframe tbody tr th:only-of-type {\n",
              "        vertical-align: middle;\n",
              "    }\n",
              "\n",
              "    .dataframe tbody tr th {\n",
              "        vertical-align: top;\n",
              "    }\n",
              "\n",
              "    .dataframe thead th {\n",
              "        text-align: right;\n",
              "    }\n",
              "</style>\n",
              "<table border=\"1\" class=\"dataframe\">\n",
              "  <thead>\n",
              "    <tr style=\"text-align: right;\">\n",
              "      <th></th>\n",
              "      <th>Open</th>\n",
              "      <th>High</th>\n",
              "      <th>Low</th>\n",
              "      <th>Close</th>\n",
              "      <th>Adj Close</th>\n",
              "      <th>Volume</th>\n",
              "    </tr>\n",
              "  </thead>\n",
              "  <tbody>\n",
              "    <tr>\n",
              "      <th>count</th>\n",
              "      <td>4114.000000</td>\n",
              "      <td>4114.000000</td>\n",
              "      <td>4114.000000</td>\n",
              "      <td>4114.000000</td>\n",
              "      <td>4114.000000</td>\n",
              "      <td>4.114000e+03</td>\n",
              "    </tr>\n",
              "    <tr>\n",
              "      <th>mean</th>\n",
              "      <td>553.424943</td>\n",
              "      <td>558.697349</td>\n",
              "      <td>547.870397</td>\n",
              "      <td>553.425008</td>\n",
              "      <td>553.425008</td>\n",
              "      <td>6.818360e+06</td>\n",
              "    </tr>\n",
              "    <tr>\n",
              "      <th>std</th>\n",
              "      <td>406.599503</td>\n",
              "      <td>410.604207</td>\n",
              "      <td>402.740464</td>\n",
              "      <td>406.859588</td>\n",
              "      <td>406.859588</td>\n",
              "      <td>7.855749e+06</td>\n",
              "    </tr>\n",
              "    <tr>\n",
              "      <th>min</th>\n",
              "      <td>49.644646</td>\n",
              "      <td>50.920921</td>\n",
              "      <td>48.028027</td>\n",
              "      <td>50.055054</td>\n",
              "      <td>50.055054</td>\n",
              "      <td>5.206000e+05</td>\n",
              "    </tr>\n",
              "    <tr>\n",
              "      <th>25%</th>\n",
              "      <td>242.129623</td>\n",
              "      <td>245.005005</td>\n",
              "      <td>239.907410</td>\n",
              "      <td>242.229736</td>\n",
              "      <td>242.229736</td>\n",
              "      <td>1.813400e+06</td>\n",
              "    </tr>\n",
              "    <tr>\n",
              "      <th>50%</th>\n",
              "      <td>351.333832</td>\n",
              "      <td>354.814819</td>\n",
              "      <td>348.228226</td>\n",
              "      <td>350.718231</td>\n",
              "      <td>350.718231</td>\n",
              "      <td>4.112600e+06</td>\n",
              "    </tr>\n",
              "    <tr>\n",
              "      <th>75%</th>\n",
              "      <td>807.395004</td>\n",
              "      <td>812.925018</td>\n",
              "      <td>803.699982</td>\n",
              "      <td>808.005005</td>\n",
              "      <td>808.005005</td>\n",
              "      <td>8.629000e+06</td>\n",
              "    </tr>\n",
              "    <tr>\n",
              "      <th>max</th>\n",
              "      <td>1820.540039</td>\n",
              "      <td>1843.829956</td>\n",
              "      <td>1817.000000</td>\n",
              "      <td>1824.969971</td>\n",
              "      <td>1824.969971</td>\n",
              "      <td>8.215110e+07</td>\n",
              "    </tr>\n",
              "  </tbody>\n",
              "</table>\n",
              "</div>"
            ],
            "text/plain": [
              "              Open         High  ...    Adj Close        Volume\n",
              "count  4114.000000  4114.000000  ...  4114.000000  4.114000e+03\n",
              "mean    553.424943   558.697349  ...   553.425008  6.818360e+06\n",
              "std     406.599503   410.604207  ...   406.859588  7.855749e+06\n",
              "min      49.644646    50.920921  ...    50.055054  5.206000e+05\n",
              "25%     242.129623   245.005005  ...   242.229736  1.813400e+06\n",
              "50%     351.333832   354.814819  ...   350.718231  4.112600e+06\n",
              "75%     807.395004   812.925018  ...   808.005005  8.629000e+06\n",
              "max    1820.540039  1843.829956  ...  1824.969971  8.215110e+07\n",
              "\n",
              "[8 rows x 6 columns]"
            ]
          },
          "metadata": {
            "tags": []
          },
          "execution_count": 22
        }
      ]
    },
    {
      "cell_type": "code",
      "metadata": {
        "colab": {
          "base_uri": "https://localhost:8080/"
        },
        "id": "MI54XEtpH29E",
        "outputId": "6a2c6727-4e87-4d8d-c80e-c879fdd0093b"
      },
      "source": [
        "df_final.isnull().values.any()"
      ],
      "execution_count": 23,
      "outputs": [
        {
          "output_type": "execute_result",
          "data": {
            "text/plain": [
              "False"
            ]
          },
          "metadata": {
            "tags": []
          },
          "execution_count": 23
        }
      ]
    },
    {
      "cell_type": "code",
      "metadata": {
        "colab": {
          "base_uri": "https://localhost:8080/",
          "height": 286
        },
        "id": "aVDS8_2kIEaV",
        "outputId": "98100217-1c53-429f-e3d3-6a5de0394601"
      },
      "source": [
        "df_final['Adj Close'].plot()"
      ],
      "execution_count": 24,
      "outputs": [
        {
          "output_type": "execute_result",
          "data": {
            "text/plain": [
              "<matplotlib.axes._subplots.AxesSubplot at 0x7fe5d58197b8>"
            ]
          },
          "metadata": {
            "tags": []
          },
          "execution_count": 24
        },
        {
          "output_type": "display_data",
          "data": {
            "image/png": "[encoded data removed]",
            "text/plain": [
              "<Figure size 432x288 with 1 Axes>"
            ]
          },
          "metadata": {
            "tags": [],
            "needs_background": "light"
          }
        }
      ]
    },
    {
      "cell_type": "markdown",
      "metadata": {
        "id": "brOJ72T3gCR2"
      },
      "source": [
        "# **Correlation Analysis**"
      ]
    },
    {
      "cell_type": "code",
      "metadata": {
        "id": "qGOvufRQIPcu"
      },
      "source": [
        "X=df_final.drop(['Adj Close'],axis=1)\r\n",
        "X=X.drop(['Close'],axis=1)"
      ],
      "execution_count": 25,
      "outputs": []
    },
    {
      "cell_type": "code",
      "metadata": {
        "colab": {
          "base_uri": "https://localhost:8080/",
          "height": 689
        },
        "id": "8Ilq3fOzIT62",
        "outputId": "0469cdda-9ecb-447c-ebf6-545c3cbd4fac"
      },
      "source": [
        "X.corrwith(df_final['Adj Close']).plot.bar(\r\n",
        "        figsize = (20, 10), title = \"Correlation with Adj Close\", fontsize = 20,\r\n",
        "        rot = 90, grid = True)"
      ],
      "execution_count": 26,
      "outputs": [
        {
          "output_type": "execute_result",
          "data": {
            "text/plain": [
              "<matplotlib.axes._subplots.AxesSubplot at 0x7fe5d5704f98>"
            ]
          },
          "metadata": {
            "tags": []
          },
          "execution_count": 26
        },
        {
          "output_type": "display_data",
          "data": {
            "image/png": "[encoded data removed]",
            "text/plain": [
              "<Figure size 1440x720 with 1 Axes>"
            ]
          },
          "metadata": {
            "tags": [],
            "needs_background": "light"
          }
        }
      ]
    },
    {
      "cell_type": "code",
      "metadata": {
        "id": "W_-w96mWIbYk",
        "colab": {
          "base_uri": "https://localhost:8080/",
          "height": 235
        },
        "outputId": "12e25cfd-d1dc-4663-90de-b71596668d24"
      },
      "source": [
        "test = df_final\r\n",
        "# Target column\r\n",
        "target_adj_close = pd.DataFrame(test['Adj Close'])\r\n",
        "display(test.head())"
      ],
      "execution_count": 27,
      "outputs": [
        {
          "output_type": "display_data",
          "data": {
            "text/html": [
              "<div>\n",
              "<style scoped>\n",
              "    .dataframe tbody tr th:only-of-type {\n",
              "        vertical-align: middle;\n",
              "    }\n",
              "\n",
              "    .dataframe tbody tr th {\n",
              "        vertical-align: top;\n",
              "    }\n",
              "\n",
              "    .dataframe thead th {\n",
              "        text-align: right;\n",
              "    }\n",
              "</style>\n",
              "<table border=\"1\" class=\"dataframe\">\n",
              "  <thead>\n",
              "    <tr style=\"text-align: right;\">\n",
              "      <th></th>\n",
              "      <th>Open</th>\n",
              "      <th>High</th>\n",
              "      <th>Low</th>\n",
              "      <th>Close</th>\n",
              "      <th>Adj Close</th>\n",
              "      <th>Volume</th>\n",
              "    </tr>\n",
              "    <tr>\n",
              "      <th>Date</th>\n",
              "      <th></th>\n",
              "      <th></th>\n",
              "      <th></th>\n",
              "      <th></th>\n",
              "      <th></th>\n",
              "      <th></th>\n",
              "    </tr>\n",
              "  </thead>\n",
              "  <tbody>\n",
              "    <tr>\n",
              "      <th>2004-08-19</th>\n",
              "      <td>50.050049</td>\n",
              "      <td>52.082081</td>\n",
              "      <td>48.028027</td>\n",
              "      <td>50.220219</td>\n",
              "      <td>50.220219</td>\n",
              "      <td>44659000</td>\n",
              "    </tr>\n",
              "    <tr>\n",
              "      <th>2004-08-20</th>\n",
              "      <td>50.555557</td>\n",
              "      <td>54.594593</td>\n",
              "      <td>50.300301</td>\n",
              "      <td>54.209209</td>\n",
              "      <td>54.209209</td>\n",
              "      <td>22834300</td>\n",
              "    </tr>\n",
              "    <tr>\n",
              "      <th>2004-08-23</th>\n",
              "      <td>55.430431</td>\n",
              "      <td>56.796795</td>\n",
              "      <td>54.579578</td>\n",
              "      <td>54.754753</td>\n",
              "      <td>54.754753</td>\n",
              "      <td>18256100</td>\n",
              "    </tr>\n",
              "    <tr>\n",
              "      <th>2004-08-24</th>\n",
              "      <td>55.675674</td>\n",
              "      <td>55.855854</td>\n",
              "      <td>51.836838</td>\n",
              "      <td>52.487488</td>\n",
              "      <td>52.487488</td>\n",
              "      <td>15247300</td>\n",
              "    </tr>\n",
              "    <tr>\n",
              "      <th>2004-08-25</th>\n",
              "      <td>52.532532</td>\n",
              "      <td>54.054054</td>\n",
              "      <td>51.991993</td>\n",
              "      <td>53.053055</td>\n",
              "      <td>53.053055</td>\n",
              "      <td>9188600</td>\n",
              "    </tr>\n",
              "  </tbody>\n",
              "</table>\n",
              "</div>"
            ],
            "text/plain": [
              "                 Open       High        Low      Close  Adj Close    Volume\n",
              "Date                                                                       \n",
              "2004-08-19  50.050049  52.082081  48.028027  50.220219  50.220219  44659000\n",
              "2004-08-20  50.555557  54.594593  50.300301  54.209209  54.209209  22834300\n",
              "2004-08-23  55.430431  56.796795  54.579578  54.754753  54.754753  18256100\n",
              "2004-08-24  55.675674  55.855854  51.836838  52.487488  52.487488  15247300\n",
              "2004-08-25  52.532532  54.054054  51.991993  53.053055  53.053055   9188600"
            ]
          },
          "metadata": {
            "tags": []
          }
        }
      ]
    },
    {
      "cell_type": "code",
      "metadata": {
        "id": "twQcMP7n5_yZ"
      },
      "source": [
        "# selecting Feature Columns\r\n",
        "feature_columns = ['Open', 'High', 'Low', 'Volume']"
      ],
      "execution_count": 28,
      "outputs": []
    },
    {
      "cell_type": "markdown",
      "metadata": {
        "id": "Gkv9Laf6ghq8"
      },
      "source": [
        "# **Normalizing the data**"
      ]
    },
    {
      "cell_type": "code",
      "metadata": {
        "colab": {
          "base_uri": "https://localhost:8080/",
          "height": 235
        },
        "id": "lVpyS_6W6DuA",
        "outputId": "91606532-fe93-4a00-f458-55d66c04dd3b"
      },
      "source": [
        "from sklearn.preprocessing import MinMaxScaler\r\n",
        "scaler = MinMaxScaler()\r\n",
        "feature_minmax_transform_data = scaler.fit_transform(test[feature_columns])\r\n",
        "feature_minmax_transform = pd.DataFrame(columns=feature_columns, data=feature_minmax_transform_data, index=test.index)\r\n",
        "feature_minmax_transform.head()"
      ],
      "execution_count": 29,
      "outputs": [
        {
          "output_type": "execute_result",
          "data": {
            "text/html": [
              "<div>\n",
              "<style scoped>\n",
              "    .dataframe tbody tr th:only-of-type {\n",
              "        vertical-align: middle;\n",
              "    }\n",
              "\n",
              "    .dataframe tbody tr th {\n",
              "        vertical-align: top;\n",
              "    }\n",
              "\n",
              "    .dataframe thead th {\n",
              "        text-align: right;\n",
              "    }\n",
              "</style>\n",
              "<table border=\"1\" class=\"dataframe\">\n",
              "  <thead>\n",
              "    <tr style=\"text-align: right;\">\n",
              "      <th></th>\n",
              "      <th>Open</th>\n",
              "      <th>High</th>\n",
              "      <th>Low</th>\n",
              "      <th>Volume</th>\n",
              "    </tr>\n",
              "    <tr>\n",
              "      <th>Date</th>\n",
              "      <th></th>\n",
              "      <th></th>\n",
              "      <th></th>\n",
              "      <th></th>\n",
              "    </tr>\n",
              "  </thead>\n",
              "  <tbody>\n",
              "    <tr>\n",
              "      <th>2004-08-19</th>\n",
              "      <td>0.000229</td>\n",
              "      <td>0.000648</td>\n",
              "      <td>0.000000</td>\n",
              "      <td>0.540710</td>\n",
              "    </tr>\n",
              "    <tr>\n",
              "      <th>2004-08-20</th>\n",
              "      <td>0.000514</td>\n",
              "      <td>0.002049</td>\n",
              "      <td>0.001285</td>\n",
              "      <td>0.273350</td>\n",
              "    </tr>\n",
              "    <tr>\n",
              "      <th>2004-08-23</th>\n",
              "      <td>0.003267</td>\n",
              "      <td>0.003277</td>\n",
              "      <td>0.003704</td>\n",
              "      <td>0.217266</td>\n",
              "    </tr>\n",
              "    <tr>\n",
              "      <th>2004-08-24</th>\n",
              "      <td>0.003406</td>\n",
              "      <td>0.002752</td>\n",
              "      <td>0.002153</td>\n",
              "      <td>0.180407</td>\n",
              "    </tr>\n",
              "    <tr>\n",
              "      <th>2004-08-25</th>\n",
              "      <td>0.001631</td>\n",
              "      <td>0.001748</td>\n",
              "      <td>0.002241</td>\n",
              "      <td>0.106186</td>\n",
              "    </tr>\n",
              "  </tbody>\n",
              "</table>\n",
              "</div>"
            ],
            "text/plain": [
              "                Open      High       Low    Volume\n",
              "Date                                              \n",
              "2004-08-19  0.000229  0.000648  0.000000  0.540710\n",
              "2004-08-20  0.000514  0.002049  0.001285  0.273350\n",
              "2004-08-23  0.003267  0.003277  0.003704  0.217266\n",
              "2004-08-24  0.003406  0.002752  0.002153  0.180407\n",
              "2004-08-25  0.001631  0.001748  0.002241  0.106186"
            ]
          },
          "metadata": {
            "tags": []
          },
          "execution_count": 29
        }
      ]
    },
    {
      "cell_type": "code",
      "metadata": {
        "colab": {
          "base_uri": "https://localhost:8080/",
          "height": 1000
        },
        "id": "YlOZpyh56IoW",
        "outputId": "de477b11-45f9-4713-e33b-70f314001125"
      },
      "source": [
        "display(feature_minmax_transform.head())\r\n",
        "print('Shape of features : ', feature_minmax_transform.shape)\r\n",
        "print('Shape of target : ', target_adj_close.shape)\r\n",
        "\r\n",
        "# Shift target array because we want to predict the n + 1 day value\r\n",
        "\r\n",
        "\r\n",
        "target_adj_close = target_adj_close.shift(-1)\r\n",
        "validation_y = target_adj_close[-90:-1]\r\n",
        "target_adj_close = target_adj_close[:-90]\r\n",
        "\r\n",
        "# Taking last 90 rows of data to be validation set\r\n",
        "validation_X = feature_minmax_transform[-90:-1]\r\n",
        "feature_minmax_transform = feature_minmax_transform[:-90]\r\n",
        "display(validation_X.tail())\r\n",
        "display(validation_y.tail())\r\n",
        "\r\n",
        "print(\"\\n -----After process------ \\n\")\r\n",
        "print('Shape of features : ', feature_minmax_transform.shape)\r\n",
        "print('Shape of target : ', target_adj_close.shape)\r\n",
        "display(target_adj_close.tail())"
      ],
      "execution_count": 30,
      "outputs": [
        {
          "output_type": "display_data",
          "data": {
            "text/html": [
              "<div>\n",
              "<style scoped>\n",
              "    .dataframe tbody tr th:only-of-type {\n",
              "        vertical-align: middle;\n",
              "    }\n",
              "\n",
              "    .dataframe tbody tr th {\n",
              "        vertical-align: top;\n",
              "    }\n",
              "\n",
              "    .dataframe thead th {\n",
              "        text-align: right;\n",
              "    }\n",
              "</style>\n",
              "<table border=\"1\" class=\"dataframe\">\n",
              "  <thead>\n",
              "    <tr style=\"text-align: right;\">\n",
              "      <th></th>\n",
              "      <th>Open</th>\n",
              "      <th>High</th>\n",
              "      <th>Low</th>\n",
              "      <th>Volume</th>\n",
              "    </tr>\n",
              "    <tr>\n",
              "      <th>Date</th>\n",
              "      <th></th>\n",
              "      <th></th>\n",
              "      <th></th>\n",
              "      <th></th>\n",
              "    </tr>\n",
              "  </thead>\n",
              "  <tbody>\n",
              "    <tr>\n",
              "      <th>2004-08-19</th>\n",
              "      <td>0.000229</td>\n",
              "      <td>0.000648</td>\n",
              "      <td>0.000000</td>\n",
              "      <td>0.540710</td>\n",
              "    </tr>\n",
              "    <tr>\n",
              "      <th>2004-08-20</th>\n",
              "      <td>0.000514</td>\n",
              "      <td>0.002049</td>\n",
              "      <td>0.001285</td>\n",
              "      <td>0.273350</td>\n",
              "    </tr>\n",
              "    <tr>\n",
              "      <th>2004-08-23</th>\n",
              "      <td>0.003267</td>\n",
              "      <td>0.003277</td>\n",
              "      <td>0.003704</td>\n",
              "      <td>0.217266</td>\n",
              "    </tr>\n",
              "    <tr>\n",
              "      <th>2004-08-24</th>\n",
              "      <td>0.003406</td>\n",
              "      <td>0.002752</td>\n",
              "      <td>0.002153</td>\n",
              "      <td>0.180407</td>\n",
              "    </tr>\n",
              "    <tr>\n",
              "      <th>2004-08-25</th>\n",
              "      <td>0.001631</td>\n",
              "      <td>0.001748</td>\n",
              "      <td>0.002241</td>\n",
              "      <td>0.106186</td>\n",
              "    </tr>\n",
              "  </tbody>\n",
              "</table>\n",
              "</div>"
            ],
            "text/plain": [
              "                Open      High       Low    Volume\n",
              "Date                                              \n",
              "2004-08-19  0.000229  0.000648  0.000000  0.540710\n",
              "2004-08-20  0.000514  0.002049  0.001285  0.273350\n",
              "2004-08-23  0.003267  0.003277  0.003704  0.217266\n",
              "2004-08-24  0.003406  0.002752  0.002153  0.180407\n",
              "2004-08-25  0.001631  0.001748  0.002241  0.106186"
            ]
          },
          "metadata": {
            "tags": []
          }
        },
        {
          "output_type": "stream",
          "text": [
            "Shape of features :  (4114, 4)\n",
            "Shape of target :  (4114, 1)\n"
          ],
          "name": "stdout"
        },
        {
          "output_type": "display_data",
          "data": {
            "text/html": [
              "<div>\n",
              "<style scoped>\n",
              "    .dataframe tbody tr th:only-of-type {\n",
              "        vertical-align: middle;\n",
              "    }\n",
              "\n",
              "    .dataframe tbody tr th {\n",
              "        vertical-align: top;\n",
              "    }\n",
              "\n",
              "    .dataframe thead th {\n",
              "        text-align: right;\n",
              "    }\n",
              "</style>\n",
              "<table border=\"1\" class=\"dataframe\">\n",
              "  <thead>\n",
              "    <tr style=\"text-align: right;\">\n",
              "      <th></th>\n",
              "      <th>Open</th>\n",
              "      <th>High</th>\n",
              "      <th>Low</th>\n",
              "      <th>Volume</th>\n",
              "    </tr>\n",
              "    <tr>\n",
              "      <th>Date</th>\n",
              "      <th></th>\n",
              "      <th></th>\n",
              "      <th></th>\n",
              "      <th></th>\n",
              "    </tr>\n",
              "  </thead>\n",
              "  <tbody>\n",
              "    <tr>\n",
              "      <th>2020-12-11</th>\n",
              "      <td>0.965814</td>\n",
              "      <td>0.962898</td>\n",
              "      <td>0.963674</td>\n",
              "      <td>0.005032</td>\n",
              "    </tr>\n",
              "    <tr>\n",
              "      <th>2020-12-14</th>\n",
              "      <td>0.971867</td>\n",
              "      <td>0.969865</td>\n",
              "      <td>0.961633</td>\n",
              "      <td>0.013866</td>\n",
              "    </tr>\n",
              "    <tr>\n",
              "      <th>2020-12-15</th>\n",
              "      <td>0.965735</td>\n",
              "      <td>0.955475</td>\n",
              "      <td>0.957416</td>\n",
              "      <td>0.006710</td>\n",
              "    </tr>\n",
              "    <tr>\n",
              "      <th>2020-12-16</th>\n",
              "      <td>0.970958</td>\n",
              "      <td>0.958325</td>\n",
              "      <td>0.961594</td>\n",
              "      <td>0.008737</td>\n",
              "    </tr>\n",
              "    <tr>\n",
              "      <th>2020-12-17</th>\n",
              "      <td>0.968033</td>\n",
              "      <td>0.956986</td>\n",
              "      <td>0.951469</td>\n",
              "      <td>0.014987</td>\n",
              "    </tr>\n",
              "  </tbody>\n",
              "</table>\n",
              "</div>"
            ],
            "text/plain": [
              "                Open      High       Low    Volume\n",
              "Date                                              \n",
              "2020-12-11  0.965814  0.962898  0.963674  0.005032\n",
              "2020-12-14  0.971867  0.969865  0.961633  0.013866\n",
              "2020-12-15  0.965735  0.955475  0.957416  0.006710\n",
              "2020-12-16  0.970958  0.958325  0.961594  0.008737\n",
              "2020-12-17  0.968033  0.956986  0.951469  0.014987"
            ]
          },
          "metadata": {
            "tags": []
          }
        },
        {
          "output_type": "display_data",
          "data": {
            "text/html": [
              "<div>\n",
              "<style scoped>\n",
              "    .dataframe tbody tr th:only-of-type {\n",
              "        vertical-align: middle;\n",
              "    }\n",
              "\n",
              "    .dataframe tbody tr th {\n",
              "        vertical-align: top;\n",
              "    }\n",
              "\n",
              "    .dataframe thead th {\n",
              "        text-align: right;\n",
              "    }\n",
              "</style>\n",
              "<table border=\"1\" class=\"dataframe\">\n",
              "  <thead>\n",
              "    <tr style=\"text-align: right;\">\n",
              "      <th></th>\n",
              "      <th>Adj Close</th>\n",
              "    </tr>\n",
              "    <tr>\n",
              "      <th>Date</th>\n",
              "      <th></th>\n",
              "    </tr>\n",
              "  </thead>\n",
              "  <tbody>\n",
              "    <tr>\n",
              "      <th>2020-12-11</th>\n",
              "      <td>1752.260010</td>\n",
              "    </tr>\n",
              "    <tr>\n",
              "      <th>2020-12-14</th>\n",
              "      <td>1761.079956</td>\n",
              "    </tr>\n",
              "    <tr>\n",
              "      <th>2020-12-15</th>\n",
              "      <td>1757.189941</td>\n",
              "    </tr>\n",
              "    <tr>\n",
              "      <th>2020-12-16</th>\n",
              "      <td>1740.510010</td>\n",
              "    </tr>\n",
              "    <tr>\n",
              "      <th>2020-12-17</th>\n",
              "      <td>1726.219971</td>\n",
              "    </tr>\n",
              "  </tbody>\n",
              "</table>\n",
              "</div>"
            ],
            "text/plain": [
              "              Adj Close\n",
              "Date                   \n",
              "2020-12-11  1752.260010\n",
              "2020-12-14  1761.079956\n",
              "2020-12-15  1757.189941\n",
              "2020-12-16  1740.510010\n",
              "2020-12-17  1726.219971"
            ]
          },
          "metadata": {
            "tags": []
          }
        },
        {
          "output_type": "stream",
          "text": [
            "\n",
            " -----After process------ \n",
            "\n",
            "Shape of features :  (4024, 4)\n",
            "Shape of target :  (4024, 1)\n"
          ],
          "name": "stdout"
        },
        {
          "output_type": "display_data",
          "data": {
            "text/html": [
              "<div>\n",
              "<style scoped>\n",
              "    .dataframe tbody tr th:only-of-type {\n",
              "        vertical-align: middle;\n",
              "    }\n",
              "\n",
              "    .dataframe tbody tr th {\n",
              "        vertical-align: top;\n",
              "    }\n",
              "\n",
              "    .dataframe thead th {\n",
              "        text-align: right;\n",
              "    }\n",
              "</style>\n",
              "<table border=\"1\" class=\"dataframe\">\n",
              "  <thead>\n",
              "    <tr style=\"text-align: right;\">\n",
              "      <th></th>\n",
              "      <th>Adj Close</th>\n",
              "    </tr>\n",
              "    <tr>\n",
              "      <th>Date</th>\n",
              "      <th></th>\n",
              "    </tr>\n",
              "  </thead>\n",
              "  <tbody>\n",
              "    <tr>\n",
              "      <th>2020-08-06</th>\n",
              "      <td>1498.369995</td>\n",
              "    </tr>\n",
              "    <tr>\n",
              "      <th>2020-08-07</th>\n",
              "      <td>1496.819946</td>\n",
              "    </tr>\n",
              "    <tr>\n",
              "      <th>2020-08-10</th>\n",
              "      <td>1480.540039</td>\n",
              "    </tr>\n",
              "    <tr>\n",
              "      <th>2020-08-11</th>\n",
              "      <td>1507.239990</td>\n",
              "    </tr>\n",
              "    <tr>\n",
              "      <th>2020-08-12</th>\n",
              "      <td>1516.650024</td>\n",
              "    </tr>\n",
              "  </tbody>\n",
              "</table>\n",
              "</div>"
            ],
            "text/plain": [
              "              Adj Close\n",
              "Date                   \n",
              "2020-08-06  1498.369995\n",
              "2020-08-07  1496.819946\n",
              "2020-08-10  1480.540039\n",
              "2020-08-11  1507.239990\n",
              "2020-08-12  1516.650024"
            ]
          },
          "metadata": {
            "tags": []
          }
        }
      ]
    },
    {
      "cell_type": "markdown",
      "metadata": {
        "id": "5F9P45lJgpaJ"
      },
      "source": [
        "# **Train test Split using Timeseriessplit**"
      ]
    },
    {
      "cell_type": "code",
      "metadata": {
        "id": "bB5_gXgf6QdQ"
      },
      "source": [
        "ts_split= TimeSeriesSplit(n_splits=10)\r\n",
        "for train_index, test_index in ts_split.split(feature_minmax_transform):\r\n",
        "        X_train, X_test = feature_minmax_transform[:len(train_index)], feature_minmax_transform[len(train_index): (len(train_index)+len(test_index))]\r\n",
        "        y_train, y_test = target_adj_close[:len(train_index)].values.ravel(), target_adj_close[len(train_index): (len(train_index)+len(test_index))].values.ravel()"
      ],
      "execution_count": 31,
      "outputs": []
    },
    {
      "cell_type": "code",
      "metadata": {
        "colab": {
          "base_uri": "https://localhost:8080/"
        },
        "id": "IaiN_eEA6WIF",
        "outputId": "f28624c1-2f48-40f6-d8c6-0dad3de19f83"
      },
      "source": [
        "X_train.shape"
      ],
      "execution_count": 32,
      "outputs": [
        {
          "output_type": "execute_result",
          "data": {
            "text/plain": [
              "(3659, 4)"
            ]
          },
          "metadata": {
            "tags": []
          },
          "execution_count": 32
        }
      ]
    },
    {
      "cell_type": "code",
      "metadata": {
        "colab": {
          "base_uri": "https://localhost:8080/"
        },
        "id": "9ci-yzo66aJV",
        "outputId": "76ff5145-582c-4010-9d3e-05461ebc09bc"
      },
      "source": [
        "X_test.shape"
      ],
      "execution_count": 33,
      "outputs": [
        {
          "output_type": "execute_result",
          "data": {
            "text/plain": [
              "(365, 4)"
            ]
          },
          "metadata": {
            "tags": []
          },
          "execution_count": 33
        }
      ]
    },
    {
      "cell_type": "code",
      "metadata": {
        "colab": {
          "base_uri": "https://localhost:8080/"
        },
        "id": "L4cP9_X97C0e",
        "outputId": "a0f3aea1-863e-4480-aa8d-ede217b8cd60"
      },
      "source": [
        "y_train.shape"
      ],
      "execution_count": 34,
      "outputs": [
        {
          "output_type": "execute_result",
          "data": {
            "text/plain": [
              "(3659,)"
            ]
          },
          "metadata": {
            "tags": []
          },
          "execution_count": 34
        }
      ]
    },
    {
      "cell_type": "code",
      "metadata": {
        "colab": {
          "base_uri": "https://localhost:8080/"
        },
        "id": "4HTJoxFx7Fhd",
        "outputId": "6495a29b-b7da-46c7-b738-5c06b438824e"
      },
      "source": [
        "y_test.shape"
      ],
      "execution_count": 35,
      "outputs": [
        {
          "output_type": "execute_result",
          "data": {
            "text/plain": [
              "(365,)"
            ]
          },
          "metadata": {
            "tags": []
          },
          "execution_count": 35
        }
      ]
    },
    {
      "cell_type": "code",
      "metadata": {
        "id": "tDw0QJ_Q7I58"
      },
      "source": [
        "def validate_result(model, model_name):\r\n",
        "    predicted = model.predict(validation_X)\r\n",
        "    RSME_score = np.sqrt(mean_squared_error(validation_y, predicted))\r\n",
        "    print('RMSE: ', RSME_score)\r\n",
        "    \r\n",
        "    R2_score = r2_score(validation_y, predicted)\r\n",
        "    print('R2 score: ', R2_score)\r\n",
        "\r\n",
        "    plt.plot(validation_y.index, predicted,'r', label='Predict')\r\n",
        "    plt.plot(validation_y.index, validation_y,'b', label='Actual')\r\n",
        "    plt.ylabel('Price')\r\n",
        "    plt.gca().xaxis.set_major_formatter(mdates.DateFormatter('%Y-%m-%d'))\r\n",
        "    plt.gca().xaxis.set_major_locator(mdates.MonthLocator())\r\n",
        "    plt.title(model_name + ' Predict vs Actual')\r\n",
        "    plt.legend(loc='upper right')\r\n",
        "    plt.show()"
      ],
      "execution_count": 36,
      "outputs": []
    },
    {
      "cell_type": "markdown",
      "metadata": {
        "id": "WJK6dEltgv5R"
      },
      "source": [
        "# **Benchmark Model**"
      ]
    },
    {
      "cell_type": "code",
      "metadata": {
        "colab": {
          "base_uri": "https://localhost:8080/",
          "height": 315
        },
        "id": "Ny6oV8Lh7bAE",
        "outputId": "c475f788-c6d3-4e06-acfa-08443e6dfd72"
      },
      "source": [
        "from sklearn.tree import DecisionTreeRegressor\r\n",
        "\r\n",
        "dt = DecisionTreeRegressor(random_state=0)\r\n",
        "\r\n",
        "benchmark_dt=dt.fit(X_train, y_train)\r\n",
        "\r\n",
        "validate_result(benchmark_dt, 'Decision Tree Regression')"
      ],
      "execution_count": 37,
      "outputs": [
        {
          "output_type": "stream",
          "text": [
            "RMSE:  409.3529121252417\n",
            "R2 score:  -10.223792779246958\n"
          ],
          "name": "stdout"
        },
        {
          "output_type": "display_data",
          "data": {
            "image/png": "[encoded data removed]",
            "text/plain": [
              "<Figure size 432x288 with 1 Axes>"
            ]
          },
          "metadata": {
            "tags": [],
            "needs_background": "light"
          }
        }
      ]
    },
    {
      "cell_type": "markdown",
      "metadata": {
        "id": "gRWa7sVeg1ZA"
      },
      "source": [
        "# **Process the data for LSTM**"
      ]
    },
    {
      "cell_type": "code",
      "metadata": {
        "id": "nJaJ5-bA7hMq"
      },
      "source": [
        "X_train =np.array(X_train)\r\n",
        "X_test =np.array(X_test)\r\n",
        "\r\n",
        "X_tr_t = X_train.reshape(X_train.shape[0], 1, X_train.shape[1])\r\n",
        "X_tst_t = X_test.reshape(X_test.shape[0], 1, X_test.shape[1])"
      ],
      "execution_count": 38,
      "outputs": []
    },
    {
      "cell_type": "markdown",
      "metadata": {
        "id": "POS3oaC-g5t4"
      },
      "source": [
        "# **Model building : LSTM**"
      ]
    },
    {
      "cell_type": "code",
      "metadata": {
        "colab": {
          "base_uri": "https://localhost:8080/"
        },
        "id": "UZZsjicu7kz8",
        "outputId": "a842ccd4-ee42-4711-8972-53f829dd7226"
      },
      "source": [
        "from keras.models import Sequential\r\n",
        "from keras.layers import Dense\r\n",
        "import keras.backend as K\r\n",
        "from keras.callbacks import EarlyStopping\r\n",
        "from keras.optimizers import Adam\r\n",
        "from keras.models import load_model\r\n",
        "from keras.layers import LSTM\r\n",
        "K.clear_session()\r\n",
        "model_lstm = Sequential()\r\n",
        "model_lstm.add(LSTM(16, input_shape=(1, X_train.shape[1]), activation='relu', return_sequences=False))\r\n",
        "model_lstm.add(Dense(1))\r\n",
        "model_lstm.compile(loss='mean_squared_error', optimizer='adam')\r\n",
        "early_stop = EarlyStopping(monitor='loss', patience=5, verbose=1)\r\n",
        "history_model_lstm = model_lstm.fit(X_tr_t, y_train, epochs=200, batch_size=8, verbose=1, shuffle=False, callbacks=[early_stop])"
      ],
      "execution_count": 39,
      "outputs": [
        {
          "output_type": "stream",
          "text": [
            "Epoch 1/200\n",
            "458/458 [==============================] - 2s 2ms/step - loss: 83705.8026\n",
            "Epoch 2/200\n",
            "458/458 [==============================] - 1s 2ms/step - loss: 80212.9972\n",
            "Epoch 3/200\n",
            "458/458 [==============================] - 1s 2ms/step - loss: 75328.7543\n",
            "Epoch 4/200\n",
            "458/458 [==============================] - 1s 2ms/step - loss: 69049.6207\n",
            "Epoch 5/200\n",
            "458/458 [==============================] - 1s 2ms/step - loss: 61958.7382\n",
            "Epoch 6/200\n",
            "458/458 [==============================] - 1s 2ms/step - loss: 54552.6396\n",
            "Epoch 7/200\n",
            "458/458 [==============================] - 1s 2ms/step - loss: 47223.0662\n",
            "Epoch 8/200\n",
            "458/458 [==============================] - 1s 2ms/step - loss: 40284.0997\n",
            "Epoch 9/200\n",
            "458/458 [==============================] - 1s 2ms/step - loss: 33988.7137\n",
            "Epoch 10/200\n",
            "458/458 [==============================] - 1s 2ms/step - loss: 28534.6775\n",
            "Epoch 11/200\n",
            "458/458 [==============================] - 1s 2ms/step - loss: 24062.8781\n",
            "Epoch 12/200\n",
            "458/458 [==============================] - 1s 2ms/step - loss: 20651.6628\n",
            "Epoch 13/200\n",
            "458/458 [==============================] - 1s 2ms/step - loss: 18310.7119\n",
            "Epoch 14/200\n",
            "458/458 [==============================] - 1s 2ms/step - loss: 16981.4350\n",
            "Epoch 15/200\n",
            "458/458 [==============================] - 1s 2ms/step - loss: 16545.3799\n",
            "Epoch 16/200\n",
            "458/458 [==============================] - 1s 2ms/step - loss: 16828.7757\n",
            "Epoch 17/200\n",
            "458/458 [==============================] - 1s 2ms/step - loss: 17620.4817\n",
            "Epoch 18/200\n",
            "458/458 [==============================] - 1s 2ms/step - loss: 18723.8618\n",
            "Epoch 19/200\n",
            "458/458 [==============================] - 1s 2ms/step - loss: 19865.7020\n",
            "Epoch 20/200\n",
            "458/458 [==============================] - 1s 2ms/step - loss: 20710.9904\n",
            "Epoch 21/200\n",
            "458/458 [==============================] - 1s 2ms/step - loss: 21011.3513\n",
            "Epoch 22/200\n",
            "458/458 [==============================] - 1s 2ms/step - loss: 20556.1915\n",
            "Epoch 23/200\n",
            "458/458 [==============================] - 1s 2ms/step - loss: 19022.0165\n",
            "Epoch 24/200\n",
            "458/458 [==============================] - 1s 2ms/step - loss: 16373.2659\n",
            "Epoch 25/200\n",
            "458/458 [==============================] - 1s 2ms/step - loss: 12973.7593\n",
            "Epoch 26/200\n",
            "458/458 [==============================] - 1s 2ms/step - loss: 9408.2811\n",
            "Epoch 27/200\n",
            "458/458 [==============================] - 1s 2ms/step - loss: 6259.1438\n",
            "Epoch 28/200\n",
            "458/458 [==============================] - 1s 2ms/step - loss: 3835.5466\n",
            "Epoch 29/200\n",
            "458/458 [==============================] - 1s 2ms/step - loss: 2159.5277\n",
            "Epoch 30/200\n",
            "458/458 [==============================] - 1s 2ms/step - loss: 1115.9621\n",
            "Epoch 31/200\n",
            "458/458 [==============================] - 1s 2ms/step - loss: 550.8256\n",
            "Epoch 32/200\n",
            "458/458 [==============================] - 1s 2ms/step - loss: 311.1443\n",
            "Epoch 33/200\n",
            "458/458 [==============================] - 1s 2ms/step - loss: 257.5103\n",
            "Epoch 34/200\n",
            "458/458 [==============================] - 1s 2ms/step - loss: 280.3591\n",
            "Epoch 35/200\n",
            "458/458 [==============================] - 1s 2ms/step - loss: 310.4222\n",
            "Epoch 36/200\n",
            "458/458 [==============================] - 1s 2ms/step - loss: 311.3057\n",
            "Epoch 37/200\n",
            "458/458 [==============================] - 1s 2ms/step - loss: 290.5336\n",
            "Epoch 38/200\n",
            "458/458 [==============================] - 1s 2ms/step - loss: 251.3212\n",
            "Epoch 39/200\n",
            "458/458 [==============================] - 1s 2ms/step - loss: 208.6761\n",
            "Epoch 40/200\n",
            "458/458 [==============================] - 1s 2ms/step - loss: 170.3431\n",
            "Epoch 41/200\n",
            "458/458 [==============================] - 1s 2ms/step - loss: 142.4602\n",
            "Epoch 42/200\n",
            "458/458 [==============================] - 1s 2ms/step - loss: 125.8590\n",
            "Epoch 43/200\n",
            "458/458 [==============================] - 1s 2ms/step - loss: 119.2396\n",
            "Epoch 44/200\n",
            "458/458 [==============================] - 1s 2ms/step - loss: 118.9484\n",
            "Epoch 45/200\n",
            "458/458 [==============================] - 1s 2ms/step - loss: 121.9618\n",
            "Epoch 46/200\n",
            "458/458 [==============================] - 1s 2ms/step - loss: 126.1494\n",
            "Epoch 47/200\n",
            "458/458 [==============================] - 1s 2ms/step - loss: 130.6656\n",
            "Epoch 48/200\n",
            "458/458 [==============================] - 1s 2ms/step - loss: 135.2605\n",
            "Epoch 49/200\n",
            "458/458 [==============================] - 1s 2ms/step - loss: 139.9202\n",
            "Epoch 50/200\n",
            "458/458 [==============================] - 1s 2ms/step - loss: 144.6466\n",
            "Epoch 51/200\n",
            "458/458 [==============================] - 1s 2ms/step - loss: 149.2626\n",
            "Epoch 52/200\n",
            "458/458 [==============================] - 1s 2ms/step - loss: 153.7505\n",
            "Epoch 53/200\n",
            "458/458 [==============================] - 1s 2ms/step - loss: 158.0243\n",
            "Epoch 54/200\n",
            "458/458 [==============================] - 1s 2ms/step - loss: 162.0659\n",
            "Epoch 55/200\n",
            "458/458 [==============================] - 1s 2ms/step - loss: 165.7265\n",
            "Epoch 56/200\n",
            "458/458 [==============================] - 1s 2ms/step - loss: 169.0771\n",
            "Epoch 57/200\n",
            "458/458 [==============================] - 1s 2ms/step - loss: 172.0300\n",
            "Epoch 58/200\n",
            "458/458 [==============================] - 1s 2ms/step - loss: 174.6506\n",
            "Epoch 59/200\n",
            "458/458 [==============================] - 1s 2ms/step - loss: 176.8962\n",
            "Epoch 60/200\n",
            "458/458 [==============================] - 1s 2ms/step - loss: 178.7683\n",
            "Epoch 61/200\n",
            "458/458 [==============================] - 1s 2ms/step - loss: 180.3650\n",
            "Epoch 62/200\n",
            "458/458 [==============================] - 1s 2ms/step - loss: 181.6349\n",
            "Epoch 63/200\n",
            "458/458 [==============================] - 1s 2ms/step - loss: 182.6467\n",
            "Epoch 64/200\n",
            "458/458 [==============================] - 1s 2ms/step - loss: 183.3885\n",
            "Epoch 65/200\n",
            "458/458 [==============================] - 1s 2ms/step - loss: 183.9054\n",
            "Epoch 66/200\n",
            "458/458 [==============================] - 1s 2ms/step - loss: 184.1828\n",
            "Epoch 67/200\n",
            "458/458 [==============================] - 1s 2ms/step - loss: 184.2742\n",
            "Epoch 68/200\n",
            "458/458 [==============================] - 1s 2ms/step - loss: 184.2223\n",
            "Epoch 69/200\n",
            "458/458 [==============================] - 1s 2ms/step - loss: 183.9938\n",
            "Epoch 70/200\n",
            "458/458 [==============================] - 1s 2ms/step - loss: 183.6091\n",
            "Epoch 71/200\n",
            "458/458 [==============================] - 1s 2ms/step - loss: 183.0899\n",
            "Epoch 72/200\n",
            "458/458 [==============================] - 1s 2ms/step - loss: 182.4517\n",
            "Epoch 73/200\n",
            "458/458 [==============================] - 1s 2ms/step - loss: 181.6900\n",
            "Epoch 74/200\n",
            "458/458 [==============================] - 1s 2ms/step - loss: 180.8070\n",
            "Epoch 75/200\n",
            "458/458 [==============================] - 1s 2ms/step - loss: 179.8114\n",
            "Epoch 76/200\n",
            "458/458 [==============================] - 1s 2ms/step - loss: 178.7105\n",
            "Epoch 77/200\n",
            "458/458 [==============================] - 1s 2ms/step - loss: 177.5122\n",
            "Epoch 78/200\n",
            "458/458 [==============================] - 1s 2ms/step - loss: 176.2211\n",
            "Epoch 79/200\n",
            "458/458 [==============================] - 1s 2ms/step - loss: 174.8470\n",
            "Epoch 80/200\n",
            "458/458 [==============================] - 1s 2ms/step - loss: 173.3941\n",
            "Epoch 81/200\n",
            "458/458 [==============================] - 1s 2ms/step - loss: 171.8635\n",
            "Epoch 82/200\n",
            "458/458 [==============================] - 1s 2ms/step - loss: 170.2613\n",
            "Epoch 83/200\n",
            "458/458 [==============================] - 1s 2ms/step - loss: 168.5939\n",
            "Epoch 84/200\n",
            "458/458 [==============================] - 1s 2ms/step - loss: 166.8677\n",
            "Epoch 85/200\n",
            "458/458 [==============================] - 1s 2ms/step - loss: 165.0886\n",
            "Epoch 86/200\n",
            "458/458 [==============================] - 1s 2ms/step - loss: 163.2345\n",
            "Epoch 87/200\n",
            "458/458 [==============================] - 1s 2ms/step - loss: 161.3463\n",
            "Epoch 88/200\n",
            "458/458 [==============================] - 1s 2ms/step - loss: 159.3880\n",
            "Epoch 89/200\n",
            "458/458 [==============================] - 1s 2ms/step - loss: 157.3867\n",
            "Epoch 90/200\n",
            "458/458 [==============================] - 1s 2ms/step - loss: 155.3391\n",
            "Epoch 91/200\n",
            "458/458 [==============================] - 1s 2ms/step - loss: 153.2368\n",
            "Epoch 92/200\n",
            "458/458 [==============================] - 1s 2ms/step - loss: 151.0853\n",
            "Epoch 93/200\n",
            "458/458 [==============================] - 1s 2ms/step - loss: 148.8962\n",
            "Epoch 94/200\n",
            "458/458 [==============================] - 1s 2ms/step - loss: 146.6684\n",
            "Epoch 95/200\n",
            "458/458 [==============================] - 1s 2ms/step - loss: 144.3917\n",
            "Epoch 96/200\n",
            "458/458 [==============================] - 1s 2ms/step - loss: 142.0957\n",
            "Epoch 97/200\n",
            "458/458 [==============================] - 1s 2ms/step - loss: 139.7518\n",
            "Epoch 98/200\n",
            "458/458 [==============================] - 1s 2ms/step - loss: 137.3856\n",
            "Epoch 99/200\n",
            "458/458 [==============================] - 1s 2ms/step - loss: 134.9981\n",
            "Epoch 100/200\n",
            "458/458 [==============================] - 1s 2ms/step - loss: 132.5815\n",
            "Epoch 101/200\n",
            "458/458 [==============================] - 1s 2ms/step - loss: 130.1440\n",
            "Epoch 102/200\n",
            "458/458 [==============================] - 1s 2ms/step - loss: 127.7008\n",
            "Epoch 103/200\n",
            "458/458 [==============================] - 1s 2ms/step - loss: 125.2293\n",
            "Epoch 104/200\n",
            "458/458 [==============================] - 1s 2ms/step - loss: 122.7713\n",
            "Epoch 105/200\n",
            "458/458 [==============================] - 1s 2ms/step - loss: 120.2967\n",
            "Epoch 106/200\n",
            "458/458 [==============================] - 1s 2ms/step - loss: 117.8251\n",
            "Epoch 107/200\n",
            "458/458 [==============================] - 1s 2ms/step - loss: 115.3586\n",
            "Epoch 108/200\n",
            "458/458 [==============================] - 1s 2ms/step - loss: 112.8997\n",
            "Epoch 109/200\n",
            "458/458 [==============================] - 1s 2ms/step - loss: 110.4526\n",
            "Epoch 110/200\n",
            "458/458 [==============================] - 1s 2ms/step - loss: 108.0216\n",
            "Epoch 111/200\n",
            "458/458 [==============================] - 1s 2ms/step - loss: 105.6085\n",
            "Epoch 112/200\n",
            "458/458 [==============================] - 1s 2ms/step - loss: 103.2188\n",
            "Epoch 113/200\n",
            "458/458 [==============================] - 1s 2ms/step - loss: 100.8546\n",
            "Epoch 114/200\n",
            "458/458 [==============================] - 1s 2ms/step - loss: 98.5196\n",
            "Epoch 115/200\n",
            "458/458 [==============================] - 1s 2ms/step - loss: 96.2175\n",
            "Epoch 116/200\n",
            "458/458 [==============================] - 1s 2ms/step - loss: 93.9523\n",
            "Epoch 117/200\n",
            "458/458 [==============================] - 1s 2ms/step - loss: 91.7245\n",
            "Epoch 118/200\n",
            "458/458 [==============================] - 1s 2ms/step - loss: 89.5377\n",
            "Epoch 119/200\n",
            "458/458 [==============================] - 1s 2ms/step - loss: 87.3934\n",
            "Epoch 120/200\n",
            "458/458 [==============================] - 1s 2ms/step - loss: 85.2955\n",
            "Epoch 121/200\n",
            "458/458 [==============================] - 1s 2ms/step - loss: 83.2466\n",
            "Epoch 122/200\n",
            "458/458 [==============================] - 1s 2ms/step - loss: 81.2459\n",
            "Epoch 123/200\n",
            "458/458 [==============================] - 1s 2ms/step - loss: 79.2952\n",
            "Epoch 124/200\n",
            "458/458 [==============================] - 1s 2ms/step - loss: 77.3950\n",
            "Epoch 125/200\n",
            "458/458 [==============================] - 1s 2ms/step - loss: 75.5506\n",
            "Epoch 126/200\n",
            "458/458 [==============================] - 1s 2ms/step - loss: 73.7597\n",
            "Epoch 127/200\n",
            "458/458 [==============================] - 1s 2ms/step - loss: 72.0310\n",
            "Epoch 128/200\n",
            "458/458 [==============================] - 1s 2ms/step - loss: 70.3423\n",
            "Epoch 129/200\n",
            "458/458 [==============================] - 1s 2ms/step - loss: 68.7299\n",
            "Epoch 130/200\n",
            "458/458 [==============================] - 1s 2ms/step - loss: 67.1585\n",
            "Epoch 131/200\n",
            "458/458 [==============================] - 1s 2ms/step - loss: 65.6563\n",
            "Epoch 132/200\n",
            "458/458 [==============================] - 1s 2ms/step - loss: 64.1981\n",
            "Epoch 133/200\n",
            "458/458 [==============================] - 1s 2ms/step - loss: 62.8060\n",
            "Epoch 134/200\n",
            "458/458 [==============================] - 1s 2ms/step - loss: 61.4612\n",
            "Epoch 135/200\n",
            "458/458 [==============================] - 1s 2ms/step - loss: 60.1718\n",
            "Epoch 136/200\n",
            "458/458 [==============================] - 1s 2ms/step - loss: 58.9407\n",
            "Epoch 137/200\n",
            "458/458 [==============================] - 1s 2ms/step - loss: 57.7561\n",
            "Epoch 138/200\n",
            "458/458 [==============================] - 1s 2ms/step - loss: 56.6245\n",
            "Epoch 139/200\n",
            "458/458 [==============================] - 1s 2ms/step - loss: 55.5430\n",
            "Epoch 140/200\n",
            "458/458 [==============================] - 1s 2ms/step - loss: 54.5097\n",
            "Epoch 141/200\n",
            "458/458 [==============================] - 1s 2ms/step - loss: 53.5188\n",
            "Epoch 142/200\n",
            "458/458 [==============================] - 1s 2ms/step - loss: 52.5821\n",
            "Epoch 143/200\n",
            "458/458 [==============================] - 1s 2ms/step - loss: 51.6858\n",
            "Epoch 144/200\n",
            "458/458 [==============================] - 1s 2ms/step - loss: 50.8287\n",
            "Epoch 145/200\n",
            "458/458 [==============================] - 1s 2ms/step - loss: 50.0196\n",
            "Epoch 146/200\n",
            "458/458 [==============================] - 1s 2ms/step - loss: 49.2466\n",
            "Epoch 147/200\n",
            "458/458 [==============================] - 1s 2ms/step - loss: 48.5103\n",
            "Epoch 148/200\n",
            "458/458 [==============================] - 1s 2ms/step - loss: 47.8156\n",
            "Epoch 149/200\n",
            "458/458 [==============================] - 1s 2ms/step - loss: 47.1485\n",
            "Epoch 150/200\n",
            "458/458 [==============================] - 1s 2ms/step - loss: 46.5167\n",
            "Epoch 151/200\n",
            "458/458 [==============================] - 1s 2ms/step - loss: 45.9167\n",
            "Epoch 152/200\n",
            "458/458 [==============================] - 1s 2ms/step - loss: 45.3456\n",
            "Epoch 153/200\n",
            "458/458 [==============================] - 1s 2ms/step - loss: 44.8030\n",
            "Epoch 154/200\n",
            "458/458 [==============================] - 1s 2ms/step - loss: 44.2894\n",
            "Epoch 155/200\n",
            "458/458 [==============================] - 1s 2ms/step - loss: 43.7969\n",
            "Epoch 156/200\n",
            "458/458 [==============================] - 1s 2ms/step - loss: 43.3289\n",
            "Epoch 157/200\n",
            "458/458 [==============================] - 1s 2ms/step - loss: 42.8844\n",
            "Epoch 158/200\n",
            "458/458 [==============================] - 1s 2ms/step - loss: 42.4628\n",
            "Epoch 159/200\n",
            "458/458 [==============================] - 1s 2ms/step - loss: 42.0601\n",
            "Epoch 160/200\n",
            "458/458 [==============================] - 1s 2ms/step - loss: 41.6774\n",
            "Epoch 161/200\n",
            "458/458 [==============================] - 1s 2ms/step - loss: 41.3130\n",
            "Epoch 162/200\n",
            "458/458 [==============================] - 1s 2ms/step - loss: 40.9662\n",
            "Epoch 163/200\n",
            "458/458 [==============================] - 1s 2ms/step - loss: 40.6359\n",
            "Epoch 164/200\n",
            "458/458 [==============================] - 1s 2ms/step - loss: 40.3220\n",
            "Epoch 165/200\n",
            "458/458 [==============================] - 1s 2ms/step - loss: 40.0224\n",
            "Epoch 166/200\n",
            "458/458 [==============================] - 1s 2ms/step - loss: 39.7364\n",
            "Epoch 167/200\n",
            "458/458 [==============================] - 1s 2ms/step - loss: 39.4639\n",
            "Epoch 168/200\n",
            "458/458 [==============================] - 1s 2ms/step - loss: 39.2018\n",
            "Epoch 169/200\n",
            "458/458 [==============================] - 1s 2ms/step - loss: 38.9523\n",
            "Epoch 170/200\n",
            "458/458 [==============================] - 1s 2ms/step - loss: 38.7140\n",
            "Epoch 171/200\n",
            "458/458 [==============================] - 1s 2ms/step - loss: 38.4860\n",
            "Epoch 172/200\n",
            "458/458 [==============================] - 1s 2ms/step - loss: 38.2681\n",
            "Epoch 173/200\n",
            "458/458 [==============================] - 1s 2ms/step - loss: 38.0595\n",
            "Epoch 174/200\n",
            "458/458 [==============================] - 1s 2ms/step - loss: 37.8601\n",
            "Epoch 175/200\n",
            "458/458 [==============================] - 1s 2ms/step - loss: 37.6694\n",
            "Epoch 176/200\n",
            "458/458 [==============================] - 1s 2ms/step - loss: 37.4871\n",
            "Epoch 177/200\n",
            "458/458 [==============================] - 1s 2ms/step - loss: 37.3123\n",
            "Epoch 178/200\n",
            "458/458 [==============================] - 1s 2ms/step - loss: 37.1453\n",
            "Epoch 179/200\n",
            "458/458 [==============================] - 1s 2ms/step - loss: 36.9852\n",
            "Epoch 180/200\n",
            "458/458 [==============================] - 1s 2ms/step - loss: 36.8321\n",
            "Epoch 181/200\n",
            "458/458 [==============================] - 1s 2ms/step - loss: 36.6856\n",
            "Epoch 182/200\n",
            "458/458 [==============================] - 1s 2ms/step - loss: 36.5453\n",
            "Epoch 183/200\n",
            "458/458 [==============================] - 1s 2ms/step - loss: 36.4111\n",
            "Epoch 184/200\n",
            "458/458 [==============================] - 1s 2ms/step - loss: 36.2827\n",
            "Epoch 185/200\n",
            "458/458 [==============================] - 1s 2ms/step - loss: 36.1599\n",
            "Epoch 186/200\n",
            "458/458 [==============================] - 1s 2ms/step - loss: 36.0423\n",
            "Epoch 187/200\n",
            "458/458 [==============================] - 1s 2ms/step - loss: 35.9276\n",
            "Epoch 188/200\n",
            "458/458 [==============================] - 1s 2ms/step - loss: 35.8186\n",
            "Epoch 189/200\n",
            "458/458 [==============================] - 1s 2ms/step - loss: 35.7171\n",
            "Epoch 190/200\n",
            "458/458 [==============================] - 1s 2ms/step - loss: 35.6172\n",
            "Epoch 191/200\n",
            "458/458 [==============================] - 1s 2ms/step - loss: 35.5202\n",
            "Epoch 192/200\n",
            "458/458 [==============================] - 1s 2ms/step - loss: 35.4326\n",
            "Epoch 193/200\n",
            "458/458 [==============================] - 1s 2ms/step - loss: 35.3436\n",
            "Epoch 194/200\n",
            "458/458 [==============================] - 1s 2ms/step - loss: 35.2623\n",
            "Epoch 195/200\n",
            "458/458 [==============================] - 1s 2ms/step - loss: 35.1862\n",
            "Epoch 196/200\n",
            "458/458 [==============================] - 1s 2ms/step - loss: 35.1068\n",
            "Epoch 197/200\n",
            "458/458 [==============================] - 1s 2ms/step - loss: 35.0390\n",
            "Epoch 198/200\n",
            "458/458 [==============================] - 1s 2ms/step - loss: 34.9691\n",
            "Epoch 199/200\n",
            "458/458 [==============================] - 1s 2ms/step - loss: 34.9052\n",
            "Epoch 200/200\n",
            "458/458 [==============================] - 1s 2ms/step - loss: 34.8422\n"
          ],
          "name": "stdout"
        }
      ]
    },
    {
      "cell_type": "markdown",
      "metadata": {
        "id": "OMHMpncvhA6Q"
      },
      "source": [
        "# **Evaluation of Model**"
      ]
    },
    {
      "cell_type": "code",
      "metadata": {
        "colab": {
          "base_uri": "https://localhost:8080/"
        },
        "id": "N6K4NztJ7vwp",
        "outputId": "0a53e2b2-efd9-4bc2-9723-c0f939c460b9"
      },
      "source": [
        "y_pred_test_lstm = model_lstm.predict(X_tst_t)\r\n",
        "y_train_pred_lstm = model_lstm.predict(X_tr_t)\r\n",
        "print(\"The R2 score on the Train set is:\\t{:0.3f}\".format(r2_score(y_train, y_train_pred_lstm)))\r\n",
        "r2_train = r2_score(y_train, y_train_pred_lstm)\r\n",
        "\r\n",
        "print(\"The R2 score on the Test set is:\\t{:0.3f}\".format(r2_score(y_test, y_pred_test_lstm)))\r\n",
        "r2_test = r2_score(y_test, y_pred_test_lstm)"
      ],
      "execution_count": 40,
      "outputs": [
        {
          "output_type": "stream",
          "text": [
            "The R2 score on the Train set is:\t0.999\n",
            "The R2 score on the Test set is:\t0.938\n"
          ],
          "name": "stdout"
        }
      ]
    },
    {
      "cell_type": "markdown",
      "metadata": {
        "id": "WTibIieDhGrX"
      },
      "source": [
        "# **Predictions made by LSTM**"
      ]
    },
    {
      "cell_type": "code",
      "metadata": {
        "colab": {
          "base_uri": "https://localhost:8080/"
        },
        "id": "DaE9p-gZ70zZ",
        "outputId": "385ec2f8-6d89-4d1b-e128-b022b49eb1a1"
      },
      "source": [
        "score_lstm= model_lstm.evaluate(X_tst_t, y_test, batch_size=1)"
      ],
      "execution_count": 41,
      "outputs": [
        {
          "output_type": "stream",
          "text": [
            "365/365 [==============================] - 1s 862us/step - loss: 1088.0730\n"
          ],
          "name": "stdout"
        }
      ]
    },
    {
      "cell_type": "code",
      "metadata": {
        "colab": {
          "base_uri": "https://localhost:8080/"
        },
        "id": "XHKzXSMO753C",
        "outputId": "05b953db-b083-447a-a9da-d988d7fcdb3d"
      },
      "source": [
        "print('LSTM: %f'%score_lstm)"
      ],
      "execution_count": 42,
      "outputs": [
        {
          "output_type": "stream",
          "text": [
            "LSTM: 1088.072998\n"
          ],
          "name": "stdout"
        }
      ]
    },
    {
      "cell_type": "code",
      "metadata": {
        "id": "1W6KQVne78gn"
      },
      "source": [
        "y_pred_test_LSTM = model_lstm.predict(X_tst_t)"
      ],
      "execution_count": 43,
      "outputs": []
    },
    {
      "cell_type": "markdown",
      "metadata": {
        "id": "RSFihk8ShNnP"
      },
      "source": [
        "# **LSTM's Prediction Visual**"
      ]
    },
    {
      "cell_type": "code",
      "metadata": {
        "colab": {
          "base_uri": "https://localhost:8080/",
          "height": 295
        },
        "id": "l3jD8rC87_Zx",
        "outputId": "c97668e6-027d-4de0-9e68-a3e436920260"
      },
      "source": [
        "\r\n",
        "plt.plot(y_test, label='True')\r\n",
        "plt.plot(y_pred_test_LSTM, label='LSTM')\r\n",
        "plt.title(\"LSTM's_Prediction\")\r\n",
        "plt.xlabel('Observation')\r\n",
        "plt.ylabel('INR_Scaled')\r\n",
        "plt.legend()\r\n",
        "plt.show()"
      ],
      "execution_count": 44,
      "outputs": [
        {
          "output_type": "display_data",
          "data": {
            "image/png": "[encoded data removed]",
            "text/plain": [
              "<Figure size 432x288 with 1 Axes>"
            ]
          },
          "metadata": {
            "tags": [],
            "needs_background": "light"
          }
        }
      ]
    },
    {
      "cell_type": "markdown",
      "metadata": {
        "id": "Cg4iaCSshRpe"
      },
      "source": [
        "# **Converting Prediction data**\r\n",
        "\r\n",
        "In this step I have made the prediction of test data and will convert the dataframe to csv so that we can see the price difference between actual and predicted price."
      ]
    },
    {
      "cell_type": "code",
      "metadata": {
        "id": "GxUbpVGt8Hxz"
      },
      "source": [
        "col1 = pd.DataFrame(y_test, columns=['True'])\r\n",
        "\r\n",
        "col2 = pd.DataFrame(y_pred_test_LSTM, columns=['LSTM_prediction'])\r\n",
        "\r\n",
        "col3 = pd.DataFrame(history_model_lstm.history['loss'], columns=['Loss_LSTM'])\r\n",
        "results = pd.concat([col1, col2, col3], axis=1)\r\n",
        "results.to_excel('PredictionResults_LSTM_NonShift.xlsx')"
      ],
      "execution_count": 45,
      "outputs": []
    },
    {
      "cell_type": "markdown",
      "metadata": {
        "id": "I5b17gHVhkW-"
      },
      "source": [
        "# **Conclusion**\r\n",
        "\r\n",
        "It is impossible to get a model that can 99% predict the price without any error, there are too many factors can affect the stock prices. So, we cannot hope there is a perfect model, but the general trend of predicted price is in line with the actual data, so the trader could have an indicator to reference, and makes trading decision by himself.\r\n",
        "\r\n",
        "Further, we can improve the model's accuracy by increasing the epochs, trying out different activation functions or even change the model's structure. As exact"
      ]
    }
  ]
}